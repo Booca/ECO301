{
 "cells": [
  {
   "cell_type": "markdown",
   "metadata": {},
   "source": [
    "# Chapter 1 Getting Started\n",
    "\n",
    "## 1.1 Software\n",
    "\n",
    "### 1.1.1 Python Distribution: Anaconda\n",
    "\n",
    "*Python* is a free and open source software. I recommend installing the *Python* distribution *Anaconda individual edition (also open source)* for purpose of this course. \n",
    "\n",
    "You can visit <https://www.anaconda.com>, go to the *Products* navigatio menu and then click *Individual Edition*. At the botton of this page, you can find the proper *Graphic* installer for your operating system. \n",
    "\n",
    "![anaconda dowload](images/chapter1/anaconda_download_page.png)\n",
    "  \n",
    "Once the installer is downloaded, follow the steps in the installation wizard to finish installing *Anaconda*.\n",
    "\n",
    "### 1.1.2 Run Python in IDE (Integrated Development Environment): JupyterLab\n",
    "\n",
    "At the *Windows Start Menu (Launchpad for Mac)*, select Anaconda Navigator\n",
    "\n",
    "![anaconda navigator](images/chapter1/anaconda_navigator.png)\n",
    "\n",
    "1. On Navigator’s Home tab, in the Applications pane on the right, scroll to the JupyterLab tile. Launch Jupyter Notebook by clicking Jupyter Notebook’s Launch button.\n",
    "\n",
    "    This will launch a new browser window (or a new tab) showing the JupyterLab Dashboard.\n",
    "\n",
    "\n",
    "2. Create a new *Notebook* with the Python version you installed (version 3).\n",
    "\n",
    "3. Rename your Notebook by right-clicking the file on the left side bar. You can name it to whatever you’d like, but for this example we’ll use test.\n",
    "\n",
    "4. In the first line of the Notebook, type or copy/paste\n",
    "\n",
    "   "
   ]
  },
  {
   "cell_type": "code",
   "execution_count": 1,
   "metadata": {},
   "outputs": [
    {
     "name": "stdout",
     "output_type": "stream",
     "text": [
      "Hello World\n"
     ]
    }
   ],
   "source": [
    "print(\"Hello World\")"
   ]
  },
  {
   "cell_type": "markdown",
   "metadata": {},
   "source": [
    "  Then run your new line of code by using <kbd>⌃ CRTL</kbd> + <kbd>⏎ Return</kbd>. Or if you would like to run the current cell and create a new cell in below, you can do <kbd>⌥Alt (Option)</kbd> + <kbd>⏎ Return</kbd>\n",
    "  \n",
    "5. You can also use Python as a calculator, Try typing 1+1 in the new cell and hit <kbd>⌃ CRTL</kbd> + <kbd>⏎ Return</kbd>"
   ]
  },
  {
   "cell_type": "code",
   "execution_count": 1,
   "metadata": {},
   "outputs": [
    {
     "data": {
      "text/plain": [
       "2"
      ]
     },
     "execution_count": 1,
     "metadata": {},
     "output_type": "execute_result"
    }
   ],
   "source": [
    "1+1"
   ]
  },
  {
   "cell_type": "markdown",
   "metadata": {},
   "source": [
    "Now click on the blanck space to the left of the current cell. This will make JupyterLab enter **Command Mode**, where more shortcuts are availabe. Insert a cell below by pressing <kbd>B</kbd> (B stands for below. You can also try <kbd>A</kbd> to insert above a cell, <kbd>M</kbd> to toggle markdown so that you can comment on your code like this cell; If you want to delet a cell, enter Command Mode, select that cell and press <kbd>D</kbd> twice).\n",
    "\n",
    "Let's try some other mathematical operations"
   ]
  },
  {
   "cell_type": "code",
   "execution_count": 2,
   "metadata": {},
   "outputs": [
    {
     "data": {
      "text/plain": [
       "45"
      ]
     },
     "execution_count": 2,
     "metadata": {},
     "output_type": "execute_result"
    }
   ],
   "source": [
    "5*(4-1)**2"
   ]
  },
  {
   "cell_type": "code",
   "execution_count": 3,
   "metadata": {},
   "outputs": [
    {
     "data": {
      "text/plain": [
       "4.0"
      ]
     },
     "execution_count": 3,
     "metadata": {},
     "output_type": "execute_result"
    }
   ],
   "source": [
    "100/25"
   ]
  },
  {
   "cell_type": "markdown",
   "metadata": {},
   "source": [
    "**Note**: power operation in Python is **"
   ]
  },
  {
   "cell_type": "markdown",
   "metadata": {},
   "source": [
    "Save your notebook. Jupyter notebook will autosave, but you can save it manually by using <kbd>CTRL</kbd>+<kbd>S</kbd> (or <kbd>⌘ Command</kbd>+<kbd>S</kbd> for mac)."
   ]
  },
  {
   "cell_type": "code",
   "execution_count": null,
   "metadata": {},
   "outputs": [],
   "source": []
  }
 ],
 "metadata": {
  "kernelspec": {
   "display_name": "Python 3",
   "language": "python",
   "name": "python3"
  },
  "language_info": {
   "codemirror_mode": {
    "name": "ipython",
    "version": 3
   },
   "file_extension": ".py",
   "mimetype": "text/x-python",
   "name": "python",
   "nbconvert_exporter": "python",
   "pygments_lexer": "ipython3",
   "version": "3.8.5"
  }
 },
 "nbformat": 4,
 "nbformat_minor": 4
}
