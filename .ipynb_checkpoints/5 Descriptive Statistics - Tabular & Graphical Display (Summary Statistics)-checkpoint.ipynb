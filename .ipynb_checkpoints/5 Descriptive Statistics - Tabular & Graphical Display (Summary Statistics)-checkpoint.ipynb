{
 "cells": [
  {
   "cell_type": "markdown",
   "id": "d2eb09a9-1851-4a4a-8754-24cf71ca3dd0",
   "metadata": {},
   "source": [
    "# Chapter 5 Descriptive Statistics - Tabular & Graphical Display (Summary Statistics)"
   ]
  },
  {
   "cell_type": "code",
   "execution_count": null,
   "id": "871af8ff-219e-4834-82ec-f5e36df55ea2",
   "metadata": {},
   "outputs": [],
   "source": []
  }
 ],
 "metadata": {
  "kernelspec": {
   "display_name": "Python 3",
   "language": "python",
   "name": "python3"
  },
  "language_info": {
   "codemirror_mode": {
    "name": "ipython",
    "version": 3
   },
   "file_extension": ".py",
   "mimetype": "text/x-python",
   "name": "python",
   "nbconvert_exporter": "python",
   "pygments_lexer": "ipython3",
   "version": "3.8.8"
  }
 },
 "nbformat": 4,
 "nbformat_minor": 5
}
