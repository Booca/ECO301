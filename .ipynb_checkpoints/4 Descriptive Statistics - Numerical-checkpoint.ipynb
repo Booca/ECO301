{
 "cells": [
  {
   "cell_type": "markdown",
   "metadata": {},
   "source": [
    "# Chapter 4 Descriptive Statistics - Numerical Measure"
   ]
  },
  {
   "cell_type": "markdown",
   "metadata": {},
   "source": [
    "In chapter 3, we discussed tabular and graphical presentations of a variable's distribution. In this chapter, we present several numerical measures which uses a *number* to reveal key information of the dataset.\n",
    "## 4.1 Measures of location (central tendency)\n",
    "### Mean\n",
    "Perhaps the most important measure of location is the **mean**, or average value, for a variable. If the data are for a sample, the mean is denoted by $\\bar{x}$; if the data are for a population, the mean is denoted by the Greek letter $\\mu$.\n",
    "\n",
    "> $$\\bar{x}=\\frac{\\sum x_i}{n}$$\n",
    "\n",
    "### Weighted Mean\n",
    "In the formulas for the sample mean and population mean, each $x_i$ is given equal importance or weight. For example mean can be written as follows:\n",
    "$$\\bar{x}=\\frac{\\sum x_i}{n}=\\frac{1}{n}(x_1)+\\frac{1}{n}(x_2)+...+\\frac{1}{n}(x_n)$$\n",
    "This shows that each observation in the sample is given a weight of 1/n. Although this practice is most common, in some instances the mean is computed by giving each observation a weight that reflects its relative importance. A mean computed in this manner is referred to as a **weighted mean**.\n",
    "\n",
    "> $$\\bar{x}=\\frac{\\sum w_ix_i}{\\sum w_i}$$\n",
    "  where\n",
    "  $w_i$ = weight for observation i.\n",
    "  \n",
    "**Weighted estimators** may be necessary if the goal of the sample analysis is prediction of population behavior. Suppose we have a sample collected by survey of the population of interest (microeconometrics reasearch data are usually collected in such a way), and each household has a probability $\\pi_i$ of appreaing in the sample. If the sampling method is SRS (simple random sampling), $\\pi_i$ would be the same for all household so that it can ignored. But let's assume that, unlike SRS, this probability varies across households.\n",
    "\n",
    "Then the sample mean that give equal weight to all observations will tend to give too much weight to households that appear with high probability in the sample. This bias can be corrected by using the **inverse probability weight**.\n",
    "\n",
    "$$w_i = 1/\\pi_i$$\n",
    "\n",
    "And with the weighted mean, the sample mean would be an unbiased estimator of the population mean.\n",
    "  \n",
    "### Median\n",
    "The **median** is another measure of central location. The median is the value in the middle when the data are arranged in ascending order (smallest value to largest value). With an odd number of observations, the median is the middle value. An even number of observation has no single middle value. In this case, we follow convention and define the median as the average of the values for the middle two observations.\n",
    "\n",
    "Although the mean is the more commonly used measure of central location, in some situations the median is preferred. For example, the median is intact of the existence of extreme values, which provides a better measure of central location than the mean. We can generalize to say that whenever a data set contains extreme values, the median is often the preferred measure of central location.\n",
    "\n",
    "### Geometric Mean\n",
    "The **geometric mean** is a measure of location that is calculated by finding the *nth* root of the product of *n* values. The general formula for the geometric mean, denoted $\\bar{x}_g$, follows.\n",
    "\n",
    "> $$\\bar{x}_g=\\sqrt[n]{\\Pi x_i} = [(x_1)(x_2)...(x_n)]^{1/n}$$\n",
    "\n",
    "Note that $x_i$ in the formula are known as the **growth factor**. It should be a ratio comparing the current value to the value in the previous period. This means that if you starts with some monetary values $p_t$, you should first calculate the growth factor by using $x_t = p_t/p_{t-1}$. \n",
    "\n",
    "Also note that $x_i$ is not the growth rate. Indeed, \n",
    "\n",
    "$$\\text{growth factor}=(1 + \\text{growth rate})$$\n",
    "\n",
    "The geometric mean is often used in analyzing financial data.\n",
    "\n",
    "### Mode\n",
    "\n",
    "The mode is the value that occurs with greatest frequency\n",
    "\n",
    "### Percentiles\n",
    "\n",
    "A **percentile** or **quantile** provides information about how the data are spread over the interval from the samllest value to the largest value. For a data set containin n observations, the **pth percentile** divides the data into two parts: approximately p% of the observations are less htan the pth percentile, and approximately (100-p)% of the observations are greater than the pth percentile.\n",
    "\n",
    "> Step 1: Sort the data from smallest to largest <br/>\n",
    "Step 2: Calculate the location of the pth percentile $$L_p = p\\frac{p}{100}(n+1)$$ \n",
    "Step 3: If $L_p$ is an integer, the pth percentile is the the number at location $L_p$ <br/>\n",
    "If $L_p$ a fraction, locate the two adjecent numbers $x_l$ and $x_h$, and the pth percentile is $x_l$+fractional part*$(x_h-x_l)$\n",
    "\n",
    "### Quartiles\n",
    "The most commonly used percentiles are the 25th, 50th, and 75th, and they are also called **quartiles**, with\n",
    "\n",
    "> $Q_1\\equiv$ first quartile, or 25th percentile <br/>\n",
    "$Q_2\\equiv$ second quartile, or 50th percentile (also the median) <br/>\n",
    "$Q_3\\equiv$ third quartile, or 75th percentile\n",
    "\n"
   ]
  },
  {
   "cell_type": "markdown",
   "metadata": {},
   "source": [
    "## 4.2 Measures of variability (risk, dispersion)\n",
    "\n",
    "### Range\n",
    "**Range** is the simplest measure of variability.\n",
    "> Range = Largest value - Smallest value\n",
    "\n",
    "### Interquartile Range\n",
    "A measure of variability that overcomes the dependency on extreme vaules is the **interquartile range (IQR)**\n",
    "> IQR = Q3 - Q1\n",
    "\n",
    "### Sample Variance\n",
    "The **variance** is a measure of variability that utilizes all the data. It measures the average deviation from the mean.\n",
    "\n",
    "> $$s^2=\\frac{\\sum (x_i-\\bar{x})^2}{n-1}$$\n",
    "\n",
    "Note that the denominator is n-1, so that $s^2$ provides an unbiased estimate of the population variance.\n",
    "\n",
    "### Sample standard deviation\n",
    "The standard deviation is defined to be the posiie square root of the variance, so that it is measured in the same units as the data.\n",
    "\n",
    "> $$s = \\sqrt{s^2}$$\n",
    "\n",
    "### Coefficient of Variation\n",
    "In some situations we may be interested in a descriptive statistic that indicates how large the standard deviation is relative to the mean. This measure is called hte coefficient of variation and is usually expressed as a percentage.\n",
    "\n",
    "> $$CV = (\\frac{s}{\\bar{x}}*100)\\%$$\n"
   ]
  },
  {
   "cell_type": "markdown",
   "metadata": {},
   "source": [
    "## 4.3 Measures of Distribution Shape, Relative location, and Detecting Outliers\n",
    "\n"
   ]
  },
  {
   "cell_type": "markdown",
   "metadata": {},
   "source": [
    "## 4.4 Numerical Statistics Using Python Pandas\n"
   ]
  }
 ],
 "metadata": {
  "kernelspec": {
   "display_name": "Python 3",
   "language": "python",
   "name": "python3"
  },
  "language_info": {
   "codemirror_mode": {
    "name": "ipython",
    "version": 3
   },
   "file_extension": ".py",
   "mimetype": "text/x-python",
   "name": "python",
   "nbconvert_exporter": "python",
   "pygments_lexer": "ipython3",
   "version": "3.8.5"
  }
 },
 "nbformat": 4,
 "nbformat_minor": 5
}
