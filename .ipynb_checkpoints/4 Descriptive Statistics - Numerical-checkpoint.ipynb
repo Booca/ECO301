{
 "cells": [
  {
   "cell_type": "markdown",
   "metadata": {},
   "source": [
    "# Chapter 4 Descriptive Statistics - Numerical Measure"
   ]
  },
  {
   "cell_type": "markdown",
   "metadata": {},
   "source": [
    "In chapter 3, we discussed tabular and graphical presentations of a variable's distribution. In this chapter, we present several numerical measures which uses a *number* to reveal key information of the dataset.\n",
    "## 4.1 Measures of location\n",
    "### Mean\n",
    "Perhaps the most important measure of location is the **mean**, or average value, for a variable. If the data are for a sample, the mean is denoted by $\\bar{x}$; if the data are for a population, the mean is denoted by the Greek letter $\\mu$.\n",
    "\n",
    "> $$\\bar{x}=\\frac{\\sum x_i}{n}$$\n",
    "\n",
    "### Weighted Mean\n",
    "In the formulas for the sample mean and population mean, each $x_i$ is given equal importance or weight. For example mean can be written as follows:\n",
    "$$\\bar{x}=\\frac{\\sum x_i}{n}=\\frac{1}{n}(x_1)+\\frac{1}{n}(x_2)+...+\\frac{1}{n}(x_n)$$\n",
    "This shows that each observation in the sample is given a weight of 1/n. Although this practice is most common, in some instances the mean is computed by giving each observation a weight that reflects its relative importance. A mean computed in this manner is referred to as a **weighted mean**.\n",
    "\n",
    "> $$\\bar{x}=\\frac{\\sum w_ix_i}{\\sum w_i}$$\n",
    "  where\n",
    "  $w_i$ = weight for observation i.\n",
    "  \n",
    "### Median\n",
    "The **median** is another measure of central location. The median is the value in the middle when the data are arranged in ascending order (smallest value to largest value). With an odd number of observations, the median is the middle value. An even number of observation has no single middle value. In this case, we follow convention and define the median as the average of the values for the middle two observations.\n",
    "\n",
    "Although the mean is the more commonly used measure of central location, in some situations the median is preferred. For example, the median is intact of the existence of extreme values, which provides a better measure of central location than the mean. We can generalize to say that whenever a data set contains extreme values, the median is often the preferred measure of central location.\n",
    "\n",
    "### Geometric Mean\n",
    "The **geometric mean** is a measure of location that is calculated by finding the *nth* root of the product of *n* values. The general formula for the geometric mean, denoted $\\bar{x}_g$, follows.\n",
    "\n",
    "> $$\\bar{x}_g=\\sqrt[n]{\\Pi x_i} = [(x_1)(x_2)...(x_n)]^{1/n}$$\n",
    "\n",
    "Note that $x_i$ in the formula are known as the growth factor. It should be a ratio comparing the current value to the value in the previous period. This means that if you starts with some monetary values $p_t$, you should first calculate the growth factor by using $x_t = p_t/p_{t-1}$. \n",
    "\n",
    "Also note that $x_i$ is not the growth rate. Indeed, \n",
    "\n",
    "$$\\text{growth factor}=\\(1 + \\text{growth rate}\\)$$\n",
    "\n",
    "## 4.2 Measures of variability (risk)\n",
    "\n",
    "## 4.3 Five-number summaries and box plots\n",
    "\n",
    "## 4.4 Measures of association between two variables\n"
   ]
  },
  {
   "cell_type": "code",
   "execution_count": null,
   "metadata": {},
   "outputs": [],
   "source": []
  }
 ],
 "metadata": {
  "kernelspec": {
   "display_name": "Python 3",
   "language": "python",
   "name": "python3"
  },
  "language_info": {
   "codemirror_mode": {
    "name": "ipython",
    "version": 3
   },
   "file_extension": ".py",
   "mimetype": "text/x-python",
   "name": "python",
   "nbconvert_exporter": "python",
   "pygments_lexer": "ipython3",
   "version": "3.8.5"
  }
 },
 "nbformat": 4,
 "nbformat_minor": 5
}
