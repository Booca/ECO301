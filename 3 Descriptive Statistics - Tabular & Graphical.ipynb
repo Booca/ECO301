{
 "cells": [
  {
   "cell_type": "markdown",
   "id": "cae3ad00-a8ba-40b1-9d22-cb7d7a54c754",
   "metadata": {},
   "source": [
    "# Chapter 3 Descriptive Statistics: Tabular and Graphical Display"
   ]
  },
  {
   "cell_type": "markdown",
   "id": "3f168e5b-0e42-46a1-8a0d-2aa4884b5ecf",
   "metadata": {},
   "source": [
    "**Data** are pieces of information that usually comes with high volume. It is neither efficient nor economical to demonstrate the entire dataset to your audience. Therefore, we use **descriptive statistics** to summarize and present the most relevant information.\n",
    "\n",
    "*Descriptive analysis* is the start point of statistical analyses, it provides summary of the data set which can be *tabular*, *graphical*, or *numerical*. A good data analyst should have all of these tools in their toolkit and be able to choose the most suitable descriptive presentation according to the audience of the analysis. In this chapter, we will focus on the tabular and graphical display of descriptive statistics. We will categorize tools by the number of variables to be analyzed and their continuity.\n",
    "\n",
    "## 3.1 One Discrete Variable\n",
    "\n",
    "We begin our discussion by learning to **slice** a pandas dataframe and extract only one variable, the resulting single column belongs to the **Series** class.\n",
    "\n",
    "Let's begin our analysis by importing the \"affairs\" example dataset from the wooldridge module. Descriptions of this dataset can be found [here](https://rdrr.io/cran/wooldridge/man/affairs.html)."
   ]
  },
  {
   "cell_type": "code",
   "execution_count": 1,
   "id": "da487848-3e53-4cdc-a021-57a7ef09f0d7",
   "metadata": {},
   "outputs": [
    {
     "data": {
      "text/html": [
       "<div>\n",
       "<style scoped>\n",
       "    .dataframe tbody tr th:only-of-type {\n",
       "        vertical-align: middle;\n",
       "    }\n",
       "\n",
       "    .dataframe tbody tr th {\n",
       "        vertical-align: top;\n",
       "    }\n",
       "\n",
       "    .dataframe thead th {\n",
       "        text-align: right;\n",
       "    }\n",
       "</style>\n",
       "<table border=\"1\" class=\"dataframe\">\n",
       "  <thead>\n",
       "    <tr style=\"text-align: right;\">\n",
       "      <th></th>\n",
       "      <th>id</th>\n",
       "      <th>male</th>\n",
       "      <th>age</th>\n",
       "      <th>yrsmarr</th>\n",
       "      <th>kids</th>\n",
       "      <th>relig</th>\n",
       "      <th>educ</th>\n",
       "      <th>occup</th>\n",
       "      <th>ratemarr</th>\n",
       "      <th>naffairs</th>\n",
       "      <th>affair</th>\n",
       "      <th>vryhap</th>\n",
       "      <th>hapavg</th>\n",
       "      <th>avgmarr</th>\n",
       "      <th>unhap</th>\n",
       "      <th>vryrel</th>\n",
       "      <th>smerel</th>\n",
       "      <th>slghtrel</th>\n",
       "      <th>notrel</th>\n",
       "    </tr>\n",
       "  </thead>\n",
       "  <tbody>\n",
       "    <tr>\n",
       "      <th>0</th>\n",
       "      <td>4</td>\n",
       "      <td>1</td>\n",
       "      <td>37.0</td>\n",
       "      <td>10.0</td>\n",
       "      <td>0</td>\n",
       "      <td>3</td>\n",
       "      <td>18</td>\n",
       "      <td>7</td>\n",
       "      <td>4</td>\n",
       "      <td>0</td>\n",
       "      <td>0</td>\n",
       "      <td>0</td>\n",
       "      <td>1</td>\n",
       "      <td>0</td>\n",
       "      <td>0</td>\n",
       "      <td>0</td>\n",
       "      <td>0</td>\n",
       "      <td>1</td>\n",
       "      <td>0</td>\n",
       "    </tr>\n",
       "    <tr>\n",
       "      <th>1</th>\n",
       "      <td>5</td>\n",
       "      <td>0</td>\n",
       "      <td>27.0</td>\n",
       "      <td>4.0</td>\n",
       "      <td>0</td>\n",
       "      <td>4</td>\n",
       "      <td>14</td>\n",
       "      <td>6</td>\n",
       "      <td>4</td>\n",
       "      <td>0</td>\n",
       "      <td>0</td>\n",
       "      <td>0</td>\n",
       "      <td>1</td>\n",
       "      <td>0</td>\n",
       "      <td>0</td>\n",
       "      <td>0</td>\n",
       "      <td>1</td>\n",
       "      <td>0</td>\n",
       "      <td>0</td>\n",
       "    </tr>\n",
       "    <tr>\n",
       "      <th>2</th>\n",
       "      <td>6</td>\n",
       "      <td>1</td>\n",
       "      <td>27.0</td>\n",
       "      <td>1.5</td>\n",
       "      <td>0</td>\n",
       "      <td>3</td>\n",
       "      <td>18</td>\n",
       "      <td>4</td>\n",
       "      <td>4</td>\n",
       "      <td>3</td>\n",
       "      <td>1</td>\n",
       "      <td>0</td>\n",
       "      <td>1</td>\n",
       "      <td>0</td>\n",
       "      <td>0</td>\n",
       "      <td>0</td>\n",
       "      <td>0</td>\n",
       "      <td>1</td>\n",
       "      <td>0</td>\n",
       "    </tr>\n",
       "    <tr>\n",
       "      <th>3</th>\n",
       "      <td>11</td>\n",
       "      <td>0</td>\n",
       "      <td>32.0</td>\n",
       "      <td>15.0</td>\n",
       "      <td>1</td>\n",
       "      <td>1</td>\n",
       "      <td>12</td>\n",
       "      <td>1</td>\n",
       "      <td>4</td>\n",
       "      <td>0</td>\n",
       "      <td>0</td>\n",
       "      <td>0</td>\n",
       "      <td>1</td>\n",
       "      <td>0</td>\n",
       "      <td>0</td>\n",
       "      <td>0</td>\n",
       "      <td>0</td>\n",
       "      <td>0</td>\n",
       "      <td>0</td>\n",
       "    </tr>\n",
       "    <tr>\n",
       "      <th>4</th>\n",
       "      <td>12</td>\n",
       "      <td>0</td>\n",
       "      <td>27.0</td>\n",
       "      <td>4.0</td>\n",
       "      <td>1</td>\n",
       "      <td>3</td>\n",
       "      <td>17</td>\n",
       "      <td>1</td>\n",
       "      <td>5</td>\n",
       "      <td>3</td>\n",
       "      <td>1</td>\n",
       "      <td>1</td>\n",
       "      <td>0</td>\n",
       "      <td>0</td>\n",
       "      <td>0</td>\n",
       "      <td>0</td>\n",
       "      <td>0</td>\n",
       "      <td>1</td>\n",
       "      <td>0</td>\n",
       "    </tr>\n",
       "  </tbody>\n",
       "</table>\n",
       "</div>"
      ],
      "text/plain": [
       "   id  male   age  yrsmarr  kids  relig  educ  occup  ratemarr  naffairs  \\\n",
       "0   4     1  37.0     10.0     0      3    18      7         4         0   \n",
       "1   5     0  27.0      4.0     0      4    14      6         4         0   \n",
       "2   6     1  27.0      1.5     0      3    18      4         4         3   \n",
       "3  11     0  32.0     15.0     1      1    12      1         4         0   \n",
       "4  12     0  27.0      4.0     1      3    17      1         5         3   \n",
       "\n",
       "   affair  vryhap  hapavg  avgmarr  unhap  vryrel  smerel  slghtrel  notrel  \n",
       "0       0       0       1        0      0       0       0         1       0  \n",
       "1       0       0       1        0      0       0       1         0       0  \n",
       "2       1       0       1        0      0       0       0         1       0  \n",
       "3       0       0       1        0      0       0       0         0       0  \n",
       "4       1       1       0        0      0       0       0         1       0  "
      ]
     },
     "execution_count": 1,
     "metadata": {},
     "output_type": "execute_result"
    }
   ],
   "source": [
    "import wooldridge as woo\n",
    "import pandas as pd\n",
    "\n",
    "# Import the affairs dataset\n",
    "affairs = woo.data(\"affairs\")\n",
    "affairs.head()"
   ]
  },
  {
   "cell_type": "markdown",
   "id": "52b3eaa8-d362-44aa-a954-ccb6d922625c",
   "metadata": {},
   "source": [
    "Use DataFrame.**info()** method to display the number of observations, all column name, and their datatypes"
   ]
  },
  {
   "cell_type": "code",
   "execution_count": 2,
   "id": "41ec20ee-e7c9-42f6-a181-45fd5fc7eaaf",
   "metadata": {},
   "outputs": [
    {
     "name": "stdout",
     "output_type": "stream",
     "text": [
      "<class 'pandas.core.frame.DataFrame'>\n",
      "RangeIndex: 601 entries, 0 to 600\n",
      "Data columns (total 19 columns):\n",
      " #   Column    Non-Null Count  Dtype  \n",
      "---  ------    --------------  -----  \n",
      " 0   id        601 non-null    int64  \n",
      " 1   male      601 non-null    int64  \n",
      " 2   age       601 non-null    float64\n",
      " 3   yrsmarr   601 non-null    float64\n",
      " 4   kids      601 non-null    int64  \n",
      " 5   relig     601 non-null    int64  \n",
      " 6   educ      601 non-null    int64  \n",
      " 7   occup     601 non-null    int64  \n",
      " 8   ratemarr  601 non-null    int64  \n",
      " 9   naffairs  601 non-null    int64  \n",
      " 10  affair    601 non-null    int64  \n",
      " 11  vryhap    601 non-null    int64  \n",
      " 12  hapavg    601 non-null    int64  \n",
      " 13  avgmarr   601 non-null    int64  \n",
      " 14  unhap     601 non-null    int64  \n",
      " 15  vryrel    601 non-null    int64  \n",
      " 16  smerel    601 non-null    int64  \n",
      " 17  slghtrel  601 non-null    int64  \n",
      " 18  notrel    601 non-null    int64  \n",
      "dtypes: float64(2), int64(17)\n",
      "memory usage: 89.3 KB\n"
     ]
    }
   ],
   "source": [
    "affairs.info()"
   ]
  },
  {
   "cell_type": "markdown",
   "id": "dd99e29e-60a6-4827-b6ee-5d5e4e5d5114",
   "metadata": {},
   "source": [
    "There are a total of 601 observations and 19 variables in the affairs dataset. Let's extract the kids column"
   ]
  },
  {
   "cell_type": "code",
   "execution_count": 3,
   "id": "3eee83d2-1127-48a0-8d35-8641fcfebf40",
   "metadata": {},
   "outputs": [
    {
     "data": {
      "text/plain": [
       "0      0\n",
       "1      0\n",
       "2      0\n",
       "3      1\n",
       "4      1\n",
       "      ..\n",
       "596    0\n",
       "597    1\n",
       "598    1\n",
       "599    1\n",
       "600    1\n",
       "Name: kids, Length: 601, dtype: int64"
      ]
     },
     "execution_count": 3,
     "metadata": {},
     "output_type": "execute_result"
    }
   ],
   "source": [
    "# Extract the kids column\n",
    "affairs[\"kids\"]"
   ]
  },
  {
   "cell_type": "code",
   "execution_count": 4,
   "id": "96ede5ba-8ad9-463d-bb52-d8c2908648fa",
   "metadata": {},
   "outputs": [
    {
     "data": {
      "text/plain": [
       "pandas.core.series.Series"
      ]
     },
     "execution_count": 4,
     "metadata": {},
     "output_type": "execute_result"
    }
   ],
   "source": [
    "type(affairs[\"kids\"])"
   ]
  },
  {
   "cell_type": "markdown",
   "id": "bf31148e-1adf-4c55-8503-3319dbee752e",
   "metadata": {},
   "source": [
    "> The single column is stored as a **Series** class.\n",
    "\n",
    "Next, let's convert it to a **categorical** data type, in order to use methods designed for categorical objects."
   ]
  },
  {
   "cell_type": "code",
   "execution_count": 5,
   "id": "89546ce0-a22d-455e-84c1-fa8befceeee4",
   "metadata": {},
   "outputs": [
    {
     "data": {
      "text/plain": [
       "0      0\n",
       "1      0\n",
       "2      0\n",
       "3      1\n",
       "4      1\n",
       "      ..\n",
       "596    0\n",
       "597    1\n",
       "598    1\n",
       "599    1\n",
       "600    1\n",
       "Name: kids, Length: 601, dtype: category\n",
       "Categories (2, int64): [0, 1]"
      ]
     },
     "execution_count": 5,
     "metadata": {},
     "output_type": "execute_result"
    }
   ],
   "source": [
    "# Use the .astype method\n",
    "kids=affairs[\"kids\"].astype(\"category\")\n",
    "kids"
   ]
  },
  {
   "cell_type": "markdown",
   "id": "16cd6ae1-8bf1-4911-bb01-ae2a0496f36f",
   "metadata": {},
   "source": [
    "Now that we have a categorical array, we can play around with its [attributes and methods](https://pandas.pydata.org/docs/reference/api/pandas.Categorical.categories.html)"
   ]
  },
  {
   "cell_type": "code",
   "execution_count": 6,
   "id": "6003b17e-aacc-4918-a6ba-93f59e8770a4",
   "metadata": {},
   "outputs": [
    {
     "name": "stdout",
     "output_type": "stream",
     "text": [
      "The categories of this categorical includes Int64Index([0, 1], dtype='int64').\n",
      "Are these categories ordered?: False\n"
     ]
    }
   ],
   "source": [
    "print(\"The categories of this categorical includes {}.\".format(kids.cat.categories))\n",
    "print(\"Are these categories ordered?: {}\".format(kids.cat.ordered))"
   ]
  },
  {
   "cell_type": "code",
   "execution_count": 7,
   "id": "1eb1b960-8999-48e0-9e91-da5ee290d900",
   "metadata": {},
   "outputs": [
    {
     "name": "stdout",
     "output_type": "stream",
     "text": [
      "0     no\n",
      "1     no\n",
      "2     no\n",
      "3    yes\n",
      "4    yes\n",
      "Name: kids, dtype: category\n",
      "Categories (2, object): ['no', 'yes']\n"
     ]
    }
   ],
   "source": [
    "# Assign labels to each category: 0 -> \"no\", 1-> \"yes\"\n",
    "\n",
    "\"\"\"\n",
    "[0,1] are the original category names, we replace the two names with [\"no\", \"yes\"], respectively. \n",
    "Note that the order matters\n",
    "\"\"\"\n",
    "\n",
    "kids.cat.categories = [\"no\",\"yes\"]\n",
    "print(kids.head())\n",
    "\n",
    "# assign the new categorical column back to the dataframe\n",
    "affairs[\"kids\"] = kids"
   ]
  },
  {
   "cell_type": "markdown",
   "id": "5678cd0c-2c1b-4360-9159-d47cc8364f89",
   "metadata": {},
   "source": [
    "### 3.1.1 Frequency Distribution table\n",
    "\n",
    "The most commonly used tabular display of a discrete variable is the frequency distribution table\n",
    "\n",
    "> A frequency distribution is a tabular summary of data showing the number (frequency) of observations in each of several *nonoverlapping* categories or classes.\n",
    "\n",
    "Both series objects and categorical objects have the [value_counts()](https://pandas.pydata.org/docs/reference/api/pandas.Series.value_counts.html) method that returns a frequency distribution table."
   ]
  },
  {
   "cell_type": "code",
   "execution_count": 8,
   "id": "1f569c1d-efc2-4661-b95e-fb4768db5462",
   "metadata": {},
   "outputs": [
    {
     "data": {
      "text/plain": [
       "yes    430\n",
       "no     171\n",
       "Name: kids, dtype: int64"
      ]
     },
     "execution_count": 8,
     "metadata": {},
     "output_type": "execute_result"
    }
   ],
   "source": [
    "freq = kids.value_counts()\n",
    "freq"
   ]
  },
  {
   "cell_type": "markdown",
   "id": "58d4bb84-8497-42b4-a887-ba57b2e8332e",
   "metadata": {},
   "source": [
    "From this table, we can see that there are 430 yes observations and 171 no observations. \n",
    "> The value_counts() method returns a Series datatype. So, refer to the [pandas.Series](https://pandas.pydata.org/docs/reference/api/pandas.Series.html) documentation for its attributes and methods"
   ]
  },
  {
   "cell_type": "markdown",
   "id": "368c548f-3466-4e88-8802-c9e3c781a0d3",
   "metadata": {},
   "source": [
    "### 3.1.2 Relative Frequency Distribution table\n",
    "\n",
    "A frequency distribution shows the number (frequency) of observations in each of several nonoverlapping categories. However, we are often interested in the proportion, or percentage, of observations in each class. \n",
    "\n",
    "> Relative frequency of a category = $\\frac{\\text{Frequency of the class}}{n}$\n",
    "\n",
    "To generate a relative frequency table, assign True to the *normalize* parameter of the *value_counts()* method"
   ]
  },
  {
   "cell_type": "code",
   "execution_count": 9,
   "id": "89a58bd5-91e6-417b-ac90-0a30f21d61b4",
   "metadata": {},
   "outputs": [
    {
     "data": {
      "text/plain": [
       "yes    0.715474\n",
       "no     0.284526\n",
       "Name: kids, dtype: float64"
      ]
     },
     "execution_count": 9,
     "metadata": {},
     "output_type": "execute_result"
    }
   ],
   "source": [
    "rel_freq = kids.value_counts(normalize = True)\n",
    "rel_freq"
   ]
  },
  {
   "cell_type": "markdown",
   "id": "fcfadae2-2043-45eb-87f0-a0b9193d0e65",
   "metadata": {},
   "source": [
    "### 3.1.3 Bar Charts and Pie Charts\n",
    "\n",
    "For the graphical displays we are going to use the [**matplotlib**](https://matplotlib.org/stable/index.html) module.\n",
    "\n",
    "A **bar chart** is a graphical display for depicting categorical data summarized in a frequency, relative frequency distribution. On one axis of the chart (usually the horizontal axis), we specify the labels that are used for the categories. A frequency, relative frequency scale can be used for the other axis of the chart (usually the vertical axis). Then using a bar of fixed width drawn above each class label, we extend the length of the bar until we reach the frequency or relative frequency of the class.\n",
    "\n",
    "Matplotlib is already integrated in the Anaconda distribution, so we can import this module directly."
   ]
  },
  {
   "cell_type": "code",
   "execution_count": 10,
   "id": "708ef866-1457-4de5-ae06-b14dac63dffd",
   "metadata": {},
   "outputs": [
    {
     "data": {
      "image/png": "[encoded data removed]",
      "text/plain": [
       "<Figure size 432x288 with 1 Axes>"
      ]
     },
     "metadata": {
      "needs_background": "light"
     },
     "output_type": "display_data"
    }
   ],
   "source": [
    "import matplotlib.pyplot as plt\n",
    "\n",
    "plt.bar(x = freq.index, height=freq)\n",
    "plt.title(\"Bar chart with frequncy\") #set title\n",
    "plt.xlabel(\"has kids\") #set x label\n",
    "plt.ylabel(\"frequency\") #set y label\n",
    "plt.show() # print plot to the screen"
   ]
  },
  {
   "cell_type": "code",
   "execution_count": 11,
   "id": "a173bb70-ffc0-402d-905b-71575613105e",
   "metadata": {},
   "outputs": [
    {
     "data": {
      "image/png": "[encoded data removed]",
      "text/plain": [
       "<Figure size 432x288 with 1 Axes>"
      ]
     },
     "metadata": {
      "needs_background": "light"
     },
     "output_type": "display_data"
    }
   ],
   "source": [
    "# relative frequency bar plot\n",
    "\n",
    "plt.bar(x = rel_freq.index, height=rel_freq, color=[\"tab:blue\",\"tab:orange\"])\n",
    "plt.title(\"Bar chart with relative frequncy\") #set title\n",
    "plt.xlabel(\"has kids\") #set x label\n",
    "plt.ylabel(\"relative frequency\") #set y label\n",
    "\n",
    "plt.show()"
   ]
  },
  {
   "cell_type": "markdown",
   "id": "4bbdcef6-912f-40ad-8738-c84c310afd56",
   "metadata": {},
   "source": [
    "> Try different colors using this [color table](https://matplotlib.org/stable/gallery/color/named_colors.html).\n",
    "\n",
    "\n",
    "The **pie chart** provides another graphical display for presenting relative frequency for categorical data."
   ]
  },
  {
   "cell_type": "code",
   "execution_count": 12,
   "id": "91e5ad40-fe41-4d0d-80e1-03a8a2198a3d",
   "metadata": {},
   "outputs": [
    {
     "data": {
      "image/png": "[encoded data removed]",
      "text/plain": [
       "<Figure size 432x288 with 1 Axes>"
      ]
     },
     "metadata": {},
     "output_type": "display_data"
    }
   ],
   "source": [
    "plt.pie(x = rel_freq, labels=rel_freq.index, explode=[0,0.1], autopct=\"%.2f %%\")\n",
    "plt.title(\"Pie chart\")\n",
    "\n",
    "plt.show()"
   ]
  },
  {
   "cell_type": "markdown",
   "id": "a428cc4c-9a11-4ad3-a32b-4c12092f17d8",
   "metadata": {},
   "source": [
    "## 3.2 One Continuous Variable\n",
    "\n",
    "### 3.2.1 Frequency distribution\n",
    "When dealing with a continuous variable, we can categorize its values into several bins and then treat it as a categorical variable. For example, the age column in the affairs dataset can be treated as a continuous variable. \n",
    "\n",
    "By setting the **bins** parameter of the [value_counts()](https://pandas.pydata.org/docs/reference/api/pandas.Series.value_counts.html) method, we can create equal-width bins and count the number of the observations within each bin. But an advanced way of creating categorical variables is using the [pd.cut()](https://pandas.pydata.org/docs/reference/api/pandas.cut.html) method."
   ]
  },
  {
   "cell_type": "code",
   "execution_count": 13,
   "id": "6dbdd160-77e2-44ca-8a41-1532b68cab57",
   "metadata": {},
   "outputs": [
    {
     "data": {
      "text/html": [
       "<div>\n",
       "<style scoped>\n",
       "    .dataframe tbody tr th:only-of-type {\n",
       "        vertical-align: middle;\n",
       "    }\n",
       "\n",
       "    .dataframe tbody tr th {\n",
       "        vertical-align: top;\n",
       "    }\n",
       "\n",
       "    .dataframe thead th {\n",
       "        text-align: right;\n",
       "    }\n",
       "</style>\n",
       "<table border=\"1\" class=\"dataframe\">\n",
       "  <thead>\n",
       "    <tr style=\"text-align: right;\">\n",
       "      <th></th>\n",
       "      <th>age</th>\n",
       "      <th>age_cat</th>\n",
       "    </tr>\n",
       "  </thead>\n",
       "  <tbody>\n",
       "    <tr>\n",
       "      <th>0</th>\n",
       "      <td>37.0</td>\n",
       "      <td>30 to 39</td>\n",
       "    </tr>\n",
       "    <tr>\n",
       "      <th>1</th>\n",
       "      <td>27.0</td>\n",
       "      <td>20 to 29</td>\n",
       "    </tr>\n",
       "    <tr>\n",
       "      <th>2</th>\n",
       "      <td>27.0</td>\n",
       "      <td>20 to 29</td>\n",
       "    </tr>\n",
       "    <tr>\n",
       "      <th>3</th>\n",
       "      <td>32.0</td>\n",
       "      <td>30 to 39</td>\n",
       "    </tr>\n",
       "    <tr>\n",
       "      <th>4</th>\n",
       "      <td>27.0</td>\n",
       "      <td>20 to 29</td>\n",
       "    </tr>\n",
       "  </tbody>\n",
       "</table>\n",
       "</div>"
      ],
      "text/plain": [
       "    age   age_cat\n",
       "0  37.0  30 to 39\n",
       "1  27.0  20 to 29\n",
       "2  27.0  20 to 29\n",
       "3  32.0  30 to 39\n",
       "4  27.0  20 to 29"
      ]
     },
     "execution_count": 13,
     "metadata": {},
     "output_type": "execute_result"
    }
   ],
   "source": [
    "# create a list of a categories (10-19,20-29,30-39,40-49,50-59)\n",
    "\n",
    "\"\"\"\n",
    "Use list comprehensions, which create a list from a list\n",
    "[function(i) for i in somelist]\n",
    "\"\"\"\n",
    "\n",
    "bin_edges = [10,20,30,40,50,60]\n",
    "labels=[\"{} to {}\".format(i, i+9) for i in [10,20,30,40,50]]\n",
    "\n",
    "# cut the age column and export the result to a new column to the dataframe\n",
    "affairs[\"age_cat\"] = pd.cut(x=affairs[\"age\"],bins = bin_edges, labels=labels, right=False)\n",
    "\n",
    "# show results\n",
    "affairs[[\"age\",\"age_cat\"]].head()"
   ]
  },
  {
   "cell_type": "code",
   "execution_count": 14,
   "id": "53a99744-3881-45f7-a5ca-4db95fa7558e",
   "metadata": {},
   "outputs": [
    {
     "data": {
      "image/png": "[encoded data removed]",
      "text/plain": [
       "<Figure size 432x288 with 1 Axes>"
      ]
     },
     "metadata": {
      "needs_background": "light"
     },
     "output_type": "display_data"
    }
   ],
   "source": [
    "# Similar to 2.1.3, we can draw bar charts using this frequency distribution table\n",
    "freq = affairs[\"age_cat\"].value_counts()\n",
    "plt.bar(x=freq.index, height=freq)\n",
    "plt.show()"
   ]
  },
  {
   "cell_type": "markdown",
   "id": "cc0eef78-69ae-4654-a319-70e1b251ce2b",
   "metadata": {},
   "source": [
    "### 3.2.2 Histogram\n",
    "\n",
    "A common graphical display of continuous data is a **histogram**. A histogram is constructed by placing the variable of interest on the horizontal axis and the frequency, relative frequency, or density on the vertical axis.\n",
    "\n",
    "We can plot our first histogram and take a look at the distribution of the age variable."
   ]
  },
  {
   "cell_type": "code",
   "execution_count": 32,
   "id": "d89af1a4-9498-428d-8d27-18423af825e6",
   "metadata": {},
   "outputs": [
    {
     "data": {
      "image/png": "[encoded data removed]",
      "text/plain": [
       "<Figure size 432x288 with 1 Axes>"
      ]
     },
     "metadata": {
      "needs_background": "light"
     },
     "output_type": "display_data"
    },
    {
     "name": "stdout",
     "output_type": "stream",
     "text": [
      "     0.00 -  0.05 -  0.06 -  0.05 -  0.04 -  0.00 -  0.02 -  0.01 -  0.01 -  0.01\n",
      "17.50 - 21.45 - 25.40 - 29.35 - 33.30 - 37.25 - 41.20 - 45.15 - 49.10 - 53.05 - 57.00\n"
     ]
    }
   ],
   "source": [
    "[n, bins, patches] = plt.hist(x=affairs[\"age\"], density=True) # use a list of variable names to catch all the returns\n",
    "plt.show()\n",
    "\n",
    "print(\" \"*4+\" - \".join([\"{:5.2f}\".format(i) for i in n])) # print the value of each bin\n",
    "print(\" - \".join([\"{:5.2f}\".format(i) for i in bins])) # print bin edges\n"
   ]
  },
  {
   "cell_type": "markdown",
   "id": "058ef64c-059e-4236-a656-bcb84786d0c6",
   "metadata": {},
   "source": [
    "One of the most important use s of a histogram is to provide information about the shape, or form, of a distribution. From the above age histogram, we see that the age distribution is right-skewed, with the most observations between 35.40 and 29.35 years old. No observations are found in [37.25, 41.20)."
   ]
  },
  {
   "cell_type": "markdown",
   "id": "c09c349d-5375-4050-ac6c-669c180b59e4",
   "metadata": {},
   "source": [
    "## 3.3 One Continuous Variable\n",
    "## 3.4 Two Continuous Variables\n",
    "## 3.5 Data Visualization - Best Practices"
   ]
  },
  {
   "cell_type": "code",
   "execution_count": null,
   "id": "c7c8d674-ae43-4517-94ef-1eb0bd4e1be6",
   "metadata": {},
   "outputs": [],
   "source": []
  }
 ],
 "metadata": {
  "kernelspec": {
   "display_name": "Python 3",
   "language": "python",
   "name": "python3"
  },
  "language_info": {
   "codemirror_mode": {
    "name": "ipython",
    "version": 3
   },
   "file_extension": ".py",
   "mimetype": "text/x-python",
   "name": "python",
   "nbconvert_exporter": "python",
   "pygments_lexer": "ipython3",
   "version": "3.8.8"
  },
  "toc-autonumbering": false,
  "toc-showmarkdowntxt": false
 },
 "nbformat": 4,
 "nbformat_minor": 5
}
