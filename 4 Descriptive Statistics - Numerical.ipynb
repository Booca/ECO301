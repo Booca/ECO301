{
 "cells": [
  {
   "cell_type": "markdown",
   "id": "2a75cb31-e6f5-4fd8-af5b-146102125250",
   "metadata": {},
   "source": [
    "# Chapter 4 Descriptive Statistics - Numerical Measure"
   ]
  },
  {
   "cell_type": "code",
   "execution_count": null,
   "id": "042ca286-2daa-424f-a209-ac947338d813",
   "metadata": {},
   "outputs": [],
   "source": []
  }
 ],
 "metadata": {
  "kernelspec": {
   "display_name": "Python 3",
   "language": "python",
   "name": "python3"
  },
  "language_info": {
   "codemirror_mode": {
    "name": "ipython",
    "version": 3
   },
   "file_extension": ".py",
   "mimetype": "text/x-python",
   "name": "python",
   "nbconvert_exporter": "python",
   "pygments_lexer": "ipython3",
   "version": "3.8.8"
  }
 },
 "nbformat": 4,
 "nbformat_minor": 5
}
