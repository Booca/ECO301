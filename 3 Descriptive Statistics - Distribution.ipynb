{
 "cells": [
  {
   "cell_type": "markdown",
   "metadata": {},
   "source": [
    "# Chapter 3 Descriptive Statistics - Distribution"
   ]
  },
  {
   "cell_type": "markdown",
   "metadata": {},
   "source": [
    "**Data** are pieces of information that usually comes with high volume. It is neither efficient nor economical to demonstrate the entire dataset to your audience. Therefore, we use **descriptive statistics** to summarize and present the most relevant information.\n",
    "\n",
    "*Descriptive analysis* is the start point of statistical analyses, it provides summary of the data set which can be *tabular*, *graphical*, or *numerical*. A good data analyst should have all of these tools in their toolkit and be able to choose the most suitable descriptive presentation according to the audience of the analysis. In this chapter, we will focus on the tabular and graphical display of descriptive statistics. We will categorize tools by the number of variables to be analyzed and their continuity.\n",
    "\n",
    "## 3.1 One Discrete Variable\n",
    "\n",
    "We begin our discussion by learning to **slice** a pandas dataframe and extract only one variable, the resulting single column belongs to the **Series** class.\n",
    "\n",
    "Let's begin our analysis by importing the \"affairs\" example dataset from the wooldridge module. Descriptions of this dataset can be found [here](https://rdrr.io/cran/wooldridge/man/affairs.html)."
   ]
  },
  {
   "cell_type": "code",
   "execution_count": 1,
   "metadata": {},
   "outputs": [
    {
     "data": {
      "text/html": [
       "<div>\n",
       "<style scoped>\n",
       "    .dataframe tbody tr th:only-of-type {\n",
       "        vertical-align: middle;\n",
       "    }\n",
       "\n",
       "    .dataframe tbody tr th {\n",
       "        vertical-align: top;\n",
       "    }\n",
       "\n",
       "    .dataframe thead th {\n",
       "        text-align: right;\n",
       "    }\n",
       "</style>\n",
       "<table border=\"1\" class=\"dataframe\">\n",
       "  <thead>\n",
       "    <tr style=\"text-align: right;\">\n",
       "      <th></th>\n",
       "      <th>id</th>\n",
       "      <th>male</th>\n",
       "      <th>age</th>\n",
       "      <th>yrsmarr</th>\n",
       "      <th>kids</th>\n",
       "      <th>relig</th>\n",
       "      <th>educ</th>\n",
       "      <th>occup</th>\n",
       "      <th>ratemarr</th>\n",
       "      <th>naffairs</th>\n",
       "      <th>affair</th>\n",
       "      <th>vryhap</th>\n",
       "      <th>hapavg</th>\n",
       "      <th>avgmarr</th>\n",
       "      <th>unhap</th>\n",
       "      <th>vryrel</th>\n",
       "      <th>smerel</th>\n",
       "      <th>slghtrel</th>\n",
       "      <th>notrel</th>\n",
       "    </tr>\n",
       "  </thead>\n",
       "  <tbody>\n",
       "    <tr>\n",
       "      <th>0</th>\n",
       "      <td>4</td>\n",
       "      <td>1</td>\n",
       "      <td>37.0</td>\n",
       "      <td>10.0</td>\n",
       "      <td>0</td>\n",
       "      <td>3</td>\n",
       "      <td>18</td>\n",
       "      <td>7</td>\n",
       "      <td>4</td>\n",
       "      <td>0</td>\n",
       "      <td>0</td>\n",
       "      <td>0</td>\n",
       "      <td>1</td>\n",
       "      <td>0</td>\n",
       "      <td>0</td>\n",
       "      <td>0</td>\n",
       "      <td>0</td>\n",
       "      <td>1</td>\n",
       "      <td>0</td>\n",
       "    </tr>\n",
       "    <tr>\n",
       "      <th>1</th>\n",
       "      <td>5</td>\n",
       "      <td>0</td>\n",
       "      <td>27.0</td>\n",
       "      <td>4.0</td>\n",
       "      <td>0</td>\n",
       "      <td>4</td>\n",
       "      <td>14</td>\n",
       "      <td>6</td>\n",
       "      <td>4</td>\n",
       "      <td>0</td>\n",
       "      <td>0</td>\n",
       "      <td>0</td>\n",
       "      <td>1</td>\n",
       "      <td>0</td>\n",
       "      <td>0</td>\n",
       "      <td>0</td>\n",
       "      <td>1</td>\n",
       "      <td>0</td>\n",
       "      <td>0</td>\n",
       "    </tr>\n",
       "    <tr>\n",
       "      <th>2</th>\n",
       "      <td>6</td>\n",
       "      <td>1</td>\n",
       "      <td>27.0</td>\n",
       "      <td>1.5</td>\n",
       "      <td>0</td>\n",
       "      <td>3</td>\n",
       "      <td>18</td>\n",
       "      <td>4</td>\n",
       "      <td>4</td>\n",
       "      <td>3</td>\n",
       "      <td>1</td>\n",
       "      <td>0</td>\n",
       "      <td>1</td>\n",
       "      <td>0</td>\n",
       "      <td>0</td>\n",
       "      <td>0</td>\n",
       "      <td>0</td>\n",
       "      <td>1</td>\n",
       "      <td>0</td>\n",
       "    </tr>\n",
       "    <tr>\n",
       "      <th>3</th>\n",
       "      <td>11</td>\n",
       "      <td>0</td>\n",
       "      <td>32.0</td>\n",
       "      <td>15.0</td>\n",
       "      <td>1</td>\n",
       "      <td>1</td>\n",
       "      <td>12</td>\n",
       "      <td>1</td>\n",
       "      <td>4</td>\n",
       "      <td>0</td>\n",
       "      <td>0</td>\n",
       "      <td>0</td>\n",
       "      <td>1</td>\n",
       "      <td>0</td>\n",
       "      <td>0</td>\n",
       "      <td>0</td>\n",
       "      <td>0</td>\n",
       "      <td>0</td>\n",
       "      <td>0</td>\n",
       "    </tr>\n",
       "    <tr>\n",
       "      <th>4</th>\n",
       "      <td>12</td>\n",
       "      <td>0</td>\n",
       "      <td>27.0</td>\n",
       "      <td>4.0</td>\n",
       "      <td>1</td>\n",
       "      <td>3</td>\n",
       "      <td>17</td>\n",
       "      <td>1</td>\n",
       "      <td>5</td>\n",
       "      <td>3</td>\n",
       "      <td>1</td>\n",
       "      <td>1</td>\n",
       "      <td>0</td>\n",
       "      <td>0</td>\n",
       "      <td>0</td>\n",
       "      <td>0</td>\n",
       "      <td>0</td>\n",
       "      <td>1</td>\n",
       "      <td>0</td>\n",
       "    </tr>\n",
       "  </tbody>\n",
       "</table>\n",
       "</div>"
      ],
      "text/plain": [
       "   id  male   age  yrsmarr  kids  relig  educ  occup  ratemarr  naffairs  \\\n",
       "0   4     1  37.0     10.0     0      3    18      7         4         0   \n",
       "1   5     0  27.0      4.0     0      4    14      6         4         0   \n",
       "2   6     1  27.0      1.5     0      3    18      4         4         3   \n",
       "3  11     0  32.0     15.0     1      1    12      1         4         0   \n",
       "4  12     0  27.0      4.0     1      3    17      1         5         3   \n",
       "\n",
       "   affair  vryhap  hapavg  avgmarr  unhap  vryrel  smerel  slghtrel  notrel  \n",
       "0       0       0       1        0      0       0       0         1       0  \n",
       "1       0       0       1        0      0       0       1         0       0  \n",
       "2       1       0       1        0      0       0       0         1       0  \n",
       "3       0       0       1        0      0       0       0         0       0  \n",
       "4       1       1       0        0      0       0       0         1       0  "
      ]
     },
     "execution_count": 1,
     "metadata": {},
     "output_type": "execute_result"
    }
   ],
   "source": [
    "import wooldridge as woo\n",
    "import pandas as pd\n",
    "\n",
    "# Import the affairs dataset\n",
    "affairs = woo.data(\"affairs\")\n",
    "affairs.head()"
   ]
  },
  {
   "cell_type": "markdown",
   "metadata": {},
   "source": [
    "Use DataFrame.**info()** method to display the number of observations, all column name, and their datatypes"
   ]
  },
  {
   "cell_type": "code",
   "execution_count": 44,
   "metadata": {},
   "outputs": [
    {
     "name": "stdout",
     "output_type": "stream",
     "text": [
      "<class 'pandas.core.frame.DataFrame'>\n",
      "RangeIndex: 601 entries, 0 to 600\n",
      "Data columns (total 20 columns):\n",
      " #   Column    Non-Null Count  Dtype   \n",
      "---  ------    --------------  -----   \n",
      " 0   id        601 non-null    int64   \n",
      " 1   male      601 non-null    int64   \n",
      " 2   age       601 non-null    float64 \n",
      " 3   yrsmarr   601 non-null    float64 \n",
      " 4   kids      601 non-null    category\n",
      " 5   relig     601 non-null    int64   \n",
      " 6   educ      601 non-null    int64   \n",
      " 7   occup     601 non-null    int64   \n",
      " 8   ratemarr  601 non-null    category\n",
      " 9   naffairs  601 non-null    int64   \n",
      " 10  affair    601 non-null    int64   \n",
      " 11  vryhap    601 non-null    int64   \n",
      " 12  hapavg    601 non-null    int64   \n",
      " 13  avgmarr   601 non-null    int64   \n",
      " 14  unhap     601 non-null    int64   \n",
      " 15  vryrel    601 non-null    int64   \n",
      " 16  smerel    601 non-null    int64   \n",
      " 17  slghtrel  601 non-null    int64   \n",
      " 18  notrel    601 non-null    int64   \n",
      " 19  age_cat   601 non-null    category\n",
      "dtypes: category(3), float64(2), int64(15)\n",
      "memory usage: 82.2 KB\n"
     ]
    }
   ],
   "source": [
    "affairs.info()"
   ]
  },
  {
   "cell_type": "markdown",
   "metadata": {},
   "source": [
    "There are a total of 601 observations and 19 variables in the affairs dataset. Let's extract the kids column"
   ]
  },
  {
   "cell_type": "code",
   "execution_count": 3,
   "metadata": {},
   "outputs": [
    {
     "data": {
      "text/plain": [
       "0      0\n",
       "1      0\n",
       "2      0\n",
       "3      1\n",
       "4      1\n",
       "      ..\n",
       "596    0\n",
       "597    1\n",
       "598    1\n",
       "599    1\n",
       "600    1\n",
       "Name: kids, Length: 601, dtype: int64"
      ]
     },
     "execution_count": 3,
     "metadata": {},
     "output_type": "execute_result"
    }
   ],
   "source": [
    "# Extract the kids column\n",
    "affairs[\"kids\"]"
   ]
  },
  {
   "cell_type": "code",
   "execution_count": 4,
   "metadata": {},
   "outputs": [
    {
     "data": {
      "text/plain": [
       "pandas.core.series.Series"
      ]
     },
     "execution_count": 4,
     "metadata": {},
     "output_type": "execute_result"
    }
   ],
   "source": [
    "type(affairs[\"kids\"])"
   ]
  },
  {
   "cell_type": "markdown",
   "metadata": {},
   "source": [
    "> The single column is stored as a **Series** class.\n",
    "\n",
    "Next, let's convert it to a **categorical** data type, in order to use methods designed for categorical objects."
   ]
  },
  {
   "cell_type": "code",
   "execution_count": 5,
   "metadata": {},
   "outputs": [
    {
     "data": {
      "text/plain": [
       "0      0\n",
       "1      0\n",
       "2      0\n",
       "3      1\n",
       "4      1\n",
       "      ..\n",
       "596    0\n",
       "597    1\n",
       "598    1\n",
       "599    1\n",
       "600    1\n",
       "Name: kids, Length: 601, dtype: category\n",
       "Categories (2, int64): [0, 1]"
      ]
     },
     "execution_count": 5,
     "metadata": {},
     "output_type": "execute_result"
    }
   ],
   "source": [
    "# Use the .astype method\n",
    "kids=affairs[\"kids\"].astype(\"category\")\n",
    "kids"
   ]
  },
  {
   "cell_type": "markdown",
   "metadata": {},
   "source": [
    "Now that we have a categorical array, we can play around with its [attributes and methods](https://pandas.pydata.org/docs/reference/api/pandas.Categorical.categories.html)"
   ]
  },
  {
   "cell_type": "code",
   "execution_count": 6,
   "metadata": {},
   "outputs": [
    {
     "name": "stdout",
     "output_type": "stream",
     "text": [
      "The categories of this categorical includes Int64Index([0, 1], dtype='int64').\n",
      "Are these categories ordered?: False\n"
     ]
    }
   ],
   "source": [
    "print(\"The categories of this categorical includes {}.\".format(kids.cat.categories))\n",
    "print(\"Are these categories ordered?: {}\".format(kids.cat.ordered))"
   ]
  },
  {
   "cell_type": "code",
   "execution_count": 7,
   "metadata": {},
   "outputs": [
    {
     "name": "stdout",
     "output_type": "stream",
     "text": [
      "0     no\n",
      "1     no\n",
      "2     no\n",
      "3    yes\n",
      "4    yes\n",
      "Name: kids, dtype: category\n",
      "Categories (2, object): ['no', 'yes']\n"
     ]
    }
   ],
   "source": [
    "# Assign labels to each category: 0 -> \"no\", 1-> \"yes\"\n",
    "\n",
    "\"\"\"\n",
    "[0,1] are the original category names, we replace the two names with [\"no\", \"yes\"], respectively. \n",
    "Note that the order matters\n",
    "\"\"\"\n",
    "\n",
    "kids.cat.categories = [\"no\",\"yes\"]\n",
    "print(kids.head())\n",
    "\n",
    "# assign the new categorical column back to the dataframe\n",
    "affairs[\"kids\"] = kids"
   ]
  },
  {
   "cell_type": "markdown",
   "metadata": {},
   "source": [
    "### 3.1.1 Frequency Distribution table\n",
    "\n",
    "The most commonly used tabular display of a discrete variable is the frequency distribution table\n",
    "\n",
    "> A frequency distribution is a tabular summary of data showing the number (frequency) of observations in each of several *nonoverlapping* categories or classes.\n",
    "\n",
    "Both series objects and categorical objects have the [value_counts()](https://pandas.pydata.org/docs/reference/api/pandas.Series.value_counts.html) method that returns a frequency distribution table."
   ]
  },
  {
   "cell_type": "code",
   "execution_count": 48,
   "metadata": {},
   "outputs": [
    {
     "name": "stdout",
     "output_type": "stream",
     "text": [
      "Table 3.1. Frequency Table for kids\n",
      "\n",
      "yes    430\n",
      "no     171\n",
      "Name: kids, dtype: int64\n",
      "\n",
      "\n"
     ]
    }
   ],
   "source": [
    "freq = kids.value_counts()\n",
    "print(\"Table 3.1. Frequency Table for kids\\n\")\n",
    "print(freq)\n",
    "print(\"\\n\")"
   ]
  },
  {
   "cell_type": "markdown",
   "metadata": {},
   "source": [
    "From this table, we can see that there are 430 yes observations and 171 no observations. \n",
    "> The value_counts() method returns a Series datatype. So, refer to the [pandas.Series](https://pandas.pydata.org/docs/reference/api/pandas.Series.html) documentation for its attributes and methods"
   ]
  },
  {
   "cell_type": "markdown",
   "metadata": {},
   "source": [
    "### 3.1.2 Relative Frequency Distribution table\n",
    "\n",
    "A frequency distribution shows the number (frequency) of observations in each of several nonoverlapping categories. However, we are often interested in the proportion, or percentage, of observations in each class. \n",
    "\n",
    "> Relative frequency of a category = $\\frac{\\text{Frequency of the class}}{n}$\n",
    "\n",
    "To generate a relative frequency table, assign True to the *normalize* parameter of the *value_counts()* method"
   ]
  },
  {
   "cell_type": "code",
   "execution_count": 50,
   "metadata": {},
   "outputs": [
    {
     "name": "stdout",
     "output_type": "stream",
     "text": [
      "Table 3.2 Relative frequency table\n",
      "\n",
      "yes   0.72\n",
      "no    0.28\n",
      "Name: kids, dtype: float64\n",
      "\n",
      "\n"
     ]
    }
   ],
   "source": [
    "rel_freq = kids.value_counts(normalize = True)\n",
    "\n",
    "print(\"Table 3.2 Relative frequency table\\n\")\n",
    "print(rel_freq)\n",
    "print(\"\\n\")"
   ]
  },
  {
   "cell_type": "markdown",
   "metadata": {},
   "source": [
    "### 3.1.3 Bar Charts and Pie Charts\n",
    "\n",
    "For the graphical displays we are going to use the [**matplotlib**](https://matplotlib.org/stable/index.html) module.\n",
    "\n",
    "A **bar chart** is a graphical display for depicting categorical data summarized in a frequency, relative frequency distribution. On one axis of the chart (usually the horizontal axis), we specify the labels that are used for the categories. A frequency, relative frequency scale can be used for the other axis of the chart (usually the vertical axis). Then using a bar of fixed width drawn above each class label, we extend the length of the bar until we reach the frequency or relative frequency of the class.\n",
    "\n",
    "Matplotlib is already integrated in the Anaconda distribution, so we can import this module directly."
   ]
  },
  {
   "cell_type": "code",
   "execution_count": 52,
   "metadata": {},
   "outputs": [
    {
     "data": {
      "image/png": "[encoded data removed]",
      "text/plain": [
       "<Figure size 432x288 with 1 Axes>"
      ]
     },
     "metadata": {
      "needs_background": "light"
     },
     "output_type": "display_data"
    }
   ],
   "source": [
    "import matplotlib.pyplot as plt\n",
    "\n",
    "plt.bar(x = freq.index, height=freq)\n",
    "plt.title(\"Fig. 3.1. Bar chart with frequncy\\n\") #set title\n",
    "plt.xlabel(\"has kids\") #set x label\n",
    "plt.ylabel(\"frequency\") #set y label\n",
    "plt.show() # print plot to the screen"
   ]
  },
  {
   "cell_type": "code",
   "execution_count": 53,
   "metadata": {},
   "outputs": [
    {
     "data": {
      "image/png": "[encoded data removed]",
      "text/plain": [
       "<Figure size 432x288 with 1 Axes>"
      ]
     },
     "metadata": {
      "needs_background": "light"
     },
     "output_type": "display_data"
    }
   ],
   "source": [
    "# relative frequency bar plot\n",
    "\n",
    "plt.bar(x = rel_freq.index, height=rel_freq, color=[\"tab:blue\",\"tab:orange\"])\n",
    "plt.title(\"Fig. 3.2 Bar chart with relative frequncy \\n\") #set title\n",
    "plt.xlabel(\"has kids\") #set x label\n",
    "plt.ylabel(\"relative frequency\") #set y label\n",
    "\n",
    "plt.show()"
   ]
  },
  {
   "cell_type": "markdown",
   "metadata": {},
   "source": [
    "> Try different colors using this [color table](https://matplotlib.org/stable/gallery/color/named_colors.html).\n",
    "\n",
    "\n",
    "The **pie chart** provides another graphical display for presenting relative frequency for categorical data."
   ]
  },
  {
   "cell_type": "code",
   "execution_count": 54,
   "metadata": {},
   "outputs": [
    {
     "data": {
      "image/png": "[encoded data removed]",
      "text/plain": [
       "<Figure size 432x288 with 1 Axes>"
      ]
     },
     "metadata": {},
     "output_type": "display_data"
    }
   ],
   "source": [
    "plt.pie(x = rel_freq, labels=rel_freq.index, explode=[0,0.1], autopct=\"%.2f %%\")\n",
    "plt.title(\"Fig. 3.3. Pie chart \\n\")\n",
    "\n",
    "plt.show()"
   ]
  },
  {
   "cell_type": "markdown",
   "metadata": {},
   "source": [
    "## 3.2 One Continuous Variable\n",
    "\n",
    "### 3.2.1 Frequency distribution\n",
    "When dealing with a continuous variable, we can categorize its values into several bins and then treat it as a categorical variable. For example, the age column in the affairs dataset can be treated as a continuous variable. \n",
    "\n",
    "By setting the **bins** parameter of the [value_counts()](https://pandas.pydata.org/docs/reference/api/pandas.Series.value_counts.html) method, we can create equal-width bins and count the number of the observations within each bin. But an advanced way of creating categorical variables is using the [pd.cut()](https://pandas.pydata.org/docs/reference/api/pandas.cut.html) method."
   ]
  },
  {
   "cell_type": "code",
   "execution_count": 13,
   "metadata": {},
   "outputs": [
    {
     "data": {
      "text/html": [
       "<div>\n",
       "<style scoped>\n",
       "    .dataframe tbody tr th:only-of-type {\n",
       "        vertical-align: middle;\n",
       "    }\n",
       "\n",
       "    .dataframe tbody tr th {\n",
       "        vertical-align: top;\n",
       "    }\n",
       "\n",
       "    .dataframe thead th {\n",
       "        text-align: right;\n",
       "    }\n",
       "</style>\n",
       "<table border=\"1\" class=\"dataframe\">\n",
       "  <thead>\n",
       "    <tr style=\"text-align: right;\">\n",
       "      <th></th>\n",
       "      <th>age</th>\n",
       "      <th>age_cat</th>\n",
       "    </tr>\n",
       "  </thead>\n",
       "  <tbody>\n",
       "    <tr>\n",
       "      <th>0</th>\n",
       "      <td>37.0</td>\n",
       "      <td>30 to 39</td>\n",
       "    </tr>\n",
       "    <tr>\n",
       "      <th>1</th>\n",
       "      <td>27.0</td>\n",
       "      <td>20 to 29</td>\n",
       "    </tr>\n",
       "    <tr>\n",
       "      <th>2</th>\n",
       "      <td>27.0</td>\n",
       "      <td>20 to 29</td>\n",
       "    </tr>\n",
       "    <tr>\n",
       "      <th>3</th>\n",
       "      <td>32.0</td>\n",
       "      <td>30 to 39</td>\n",
       "    </tr>\n",
       "    <tr>\n",
       "      <th>4</th>\n",
       "      <td>27.0</td>\n",
       "      <td>20 to 29</td>\n",
       "    </tr>\n",
       "  </tbody>\n",
       "</table>\n",
       "</div>"
      ],
      "text/plain": [
       "    age   age_cat\n",
       "0  37.0  30 to 39\n",
       "1  27.0  20 to 29\n",
       "2  27.0  20 to 29\n",
       "3  32.0  30 to 39\n",
       "4  27.0  20 to 29"
      ]
     },
     "execution_count": 13,
     "metadata": {},
     "output_type": "execute_result"
    }
   ],
   "source": [
    "# create a list of a categories (10-19,20-29,30-39,40-49,50-59)\n",
    "\n",
    "\"\"\"\n",
    "Use list comprehensions, which create a list from a list\n",
    "[function(i) for i in somelist]\n",
    "\"\"\"\n",
    "\n",
    "bin_edges = [10,20,30,40,50,60]\n",
    "labels=[\"{} to {}\".format(i, i+9) for i in [10,20,30,40,50]]\n",
    "\n",
    "# cut the age column and export the result to a new column to the dataframe\n",
    "affairs[\"age_cat\"] = pd.cut(x=affairs[\"age\"],bins = bin_edges, labels=labels, right=False)\n",
    "\n",
    "# show results\n",
    "affairs[[\"age\",\"age_cat\"]].head()"
   ]
  },
  {
   "cell_type": "code",
   "execution_count": 55,
   "metadata": {},
   "outputs": [
    {
     "data": {
      "image/png": "[encoded data removed]",
      "text/plain": [
       "<Figure size 432x288 with 1 Axes>"
      ]
     },
     "metadata": {
      "needs_background": "light"
     },
     "output_type": "display_data"
    }
   ],
   "source": [
    "# Similar to 2.1.3, we can draw bar charts using this frequency distribution table\n",
    "freq = affairs[\"age_cat\"].value_counts()\n",
    "plt.bar(x=freq.index, height=freq)\n",
    "\n",
    "plt.title(\"Fig. 3.4 Bar charts for age categories\\n\")\n",
    "plt.show()"
   ]
  },
  {
   "cell_type": "markdown",
   "metadata": {},
   "source": [
    "### 3.2.2 Histogram\n",
    "\n",
    "A common graphical display of continuous data is a **histogram**. A histogram is constructed by placing the variable of interest on the horizontal axis and the frequency, relative frequency, or density on the vertical axis.\n",
    "\n",
    "We can plot our first histogram and take a look at the distribution of the age variable."
   ]
  },
  {
   "cell_type": "code",
   "execution_count": 59,
   "metadata": {},
   "outputs": [
    {
     "data": {
      "image/png": "[encoded data removed]",
      "text/plain": [
       "<Figure size 432x288 with 1 Axes>"
      ]
     },
     "metadata": {
      "needs_background": "light"
     },
     "output_type": "display_data"
    },
    {
     "name": "stdout",
     "output_type": "stream",
     "text": [
      "     0.00 -  0.05 -  0.06 -  0.05 -  0.04 -  0.00 -  0.02 -  0.01 -  0.01 -  0.01\n",
      "17.50 - 21.45 - 25.40 - 29.35 - 33.30 - 37.25 - 41.20 - 45.15 - 49.10 - 53.05 - 57.00\n",
      "\n",
      "\n"
     ]
    }
   ],
   "source": [
    "n, bins, patches = plt.hist(x=affairs[\"age\"], density=True) # use a list of variable names to catch all the returns\n",
    "plt.title(\"Fig. 3.5. Histogram for age \\n\")\n",
    "plt.xlabel(\"age\")\n",
    "plt.ylabel(\"density\")\n",
    "plt.show()\n",
    "\n",
    "print(\" \"*4+\" - \".join([\"{:5.2f}\".format(i) for i in n])) # print the value of each bin with list comprehension\n",
    "print(\" - \".join([\"{:5.2f}\".format(i) for i in bins])) # print bin edges\n",
    "print(\"\\n\")\n"
   ]
  },
  {
   "cell_type": "markdown",
   "metadata": {},
   "source": [
    "One of the most important use s of a histogram is to provide information about the shape, or form, of a distribution. From the above age histogram, we see that the age distribution is right-skewed, with the most observations between 35.40 and 29.35 years old. No observations are found in [37.25, 41.20)."
   ]
  },
  {
   "cell_type": "markdown",
   "metadata": {},
   "source": [
    "## 3.3 Two Discrete Variables\n",
    "\n",
    "Thus far in this chapter, we have focused on using tabular and graphical displays to summarize the data for a single categorical or quantitative variable. Often a manager or decision maker needs to summarize the data for two variables in order to reveal the **relationship** - if any - between the variables.\n",
    "\n",
    "### 3.3.1 Crosstabulation\n",
    "\n",
    "A **crosstabulation** is a tabular summary of data for two variables. it provides the bivariate distribution, where the frequency or relative frequency of each possible combined outcome is demonstrated. \n",
    "\n",
    "As an example, let's explore the bivariate distribution of two categorical variables - whether has kid and the rate of marital happiness - in the affairs dataset. Again, We begin our analysis by converting the ratemarr variable to categorical and assign proper labels according to [this documentation](https://rdrr.io/cran/wooldridge/man/affairs.html)."
   ]
  },
  {
   "cell_type": "code",
   "execution_count": 16,
   "metadata": {},
   "outputs": [
    {
     "name": "stdout",
     "output_type": "stream",
     "text": [
      "Int64Index([1, 2, 3, 4, 5], dtype='int64')\n"
     ]
    },
    {
     "data": {
      "text/plain": [
       "0    hap than avg\n",
       "1    hap than avg\n",
       "2    hap than avg\n",
       "3    hap than avg\n",
       "4    vry hap marr\n",
       "Name: ratemarr, dtype: category\n",
       "Categories (5, object): ['vry unhap', 'smewht unhap', 'avg', 'hap than avg', 'vry hap marr']"
      ]
     },
     "execution_count": 16,
     "metadata": {},
     "output_type": "execute_result"
    }
   ],
   "source": [
    "# convert the rate of marital happiness column to categorical\n",
    "ratemarr = affairs[\"ratemarr\"].astype(\"category\")\n",
    "\n",
    "# check the category names and their order\n",
    "print(ratemarr.cat.categories) ##\n",
    "\n",
    "# rename labels\n",
    "ratemarr.cat.categories = [\"vry unhap\", \"smewht unhap\", \"avg\", \"hap than avg\", \"vry hap marr\"]\n",
    "\n",
    "# replace the ratemarr column in the affairs dataframe\n",
    "affairs[\"ratemarr\"] = ratemarr\n",
    "\n",
    "affairs[\"ratemarr\"].head()"
   ]
  },
  {
   "cell_type": "markdown",
   "metadata": {},
   "source": [
    "---\n",
    "\n",
    "We can use the .crosstab() **class method** to crosstabulate the *kids* and the *ratemarr* variables. Read how to configure pd.crosstab() [here](https://pandas.pydata.org/docs/reference/api/pandas.crosstab.html).\n",
    "\n",
    "> A class method is a method which is bound to the class and not the object of the class."
   ]
  },
  {
   "cell_type": "code",
   "execution_count": 65,
   "metadata": {},
   "outputs": [
    {
     "name": "stdout",
     "output_type": "stream",
     "text": [
      "Table 3.3. Crosstabulation of rate of marital happiness and whether have kids\n"
     ]
    },
    {
     "data": {
      "text/html": [
       "<div>\n",
       "<style scoped>\n",
       "    .dataframe tbody tr th:only-of-type {\n",
       "        vertical-align: middle;\n",
       "    }\n",
       "\n",
       "    .dataframe tbody tr th {\n",
       "        vertical-align: top;\n",
       "    }\n",
       "\n",
       "    .dataframe thead th {\n",
       "        text-align: right;\n",
       "    }\n",
       "</style>\n",
       "<table border=\"1\" class=\"dataframe\">\n",
       "  <thead>\n",
       "    <tr style=\"text-align: right;\">\n",
       "      <th>ratemarr</th>\n",
       "      <th>vry unhap</th>\n",
       "      <th>smewht unhap</th>\n",
       "      <th>avg</th>\n",
       "      <th>hap than avg</th>\n",
       "      <th>vry hap marr</th>\n",
       "      <th>All</th>\n",
       "    </tr>\n",
       "    <tr>\n",
       "      <th>kids</th>\n",
       "      <th></th>\n",
       "      <th></th>\n",
       "      <th></th>\n",
       "      <th></th>\n",
       "      <th></th>\n",
       "      <th></th>\n",
       "    </tr>\n",
       "  </thead>\n",
       "  <tbody>\n",
       "    <tr>\n",
       "      <th>no</th>\n",
       "      <td>3</td>\n",
       "      <td>8</td>\n",
       "      <td>24</td>\n",
       "      <td>40</td>\n",
       "      <td>96</td>\n",
       "      <td>171</td>\n",
       "    </tr>\n",
       "    <tr>\n",
       "      <th>yes</th>\n",
       "      <td>13</td>\n",
       "      <td>58</td>\n",
       "      <td>69</td>\n",
       "      <td>154</td>\n",
       "      <td>136</td>\n",
       "      <td>430</td>\n",
       "    </tr>\n",
       "    <tr>\n",
       "      <th>All</th>\n",
       "      <td>16</td>\n",
       "      <td>66</td>\n",
       "      <td>93</td>\n",
       "      <td>194</td>\n",
       "      <td>232</td>\n",
       "      <td>601</td>\n",
       "    </tr>\n",
       "  </tbody>\n",
       "</table>\n",
       "</div>"
      ],
      "text/plain": [
       "ratemarr  vry unhap  smewht unhap  avg  hap than avg  vry hap marr  All\n",
       "kids                                                                   \n",
       "no                3             8   24            40            96  171\n",
       "yes              13            58   69           154           136  430\n",
       "All              16            66   93           194           232  601"
      ]
     },
     "execution_count": 65,
     "metadata": {},
     "output_type": "execute_result"
    }
   ],
   "source": [
    "# crosstabulation with frequency\n",
    "\n",
    "print(\"Table 3.3. Crosstabulation of rate of marital happiness and whether have kids\")\n",
    "crosstab = pd.crosstab(index = affairs[\"kids\"], columns = affairs[\"ratemarr\"], margins = True)\n",
    "crosstab"
   ]
  },
  {
   "cell_type": "markdown",
   "metadata": {},
   "source": [
    "In reviewing the table above, we see that the greatest number of people in the sample have a happy than average marriage and have kids. Only 3 people find their marriage very unhappy and don't have any kids. Similar interpretations of the other frequencies can be made. In addition, note that the right and bottom margins of the crosstabulation provide the frequency distributions for *kids* and *ratemarr* separately.\n",
    "\n",
    "We can also calculate the relative frequencies of each combination with respect to the row or column margins."
   ]
  },
  {
   "cell_type": "code",
   "execution_count": 64,
   "metadata": {},
   "outputs": [
    {
     "name": "stdout",
     "output_type": "stream",
     "text": [
      "Table 3.4. Crosstabulation with row percentage\n"
     ]
    },
    {
     "data": {
      "text/html": [
       "<div>\n",
       "<style scoped>\n",
       "    .dataframe tbody tr th:only-of-type {\n",
       "        vertical-align: middle;\n",
       "    }\n",
       "\n",
       "    .dataframe tbody tr th {\n",
       "        vertical-align: top;\n",
       "    }\n",
       "\n",
       "    .dataframe thead th {\n",
       "        text-align: right;\n",
       "    }\n",
       "</style>\n",
       "<table border=\"1\" class=\"dataframe\">\n",
       "  <thead>\n",
       "    <tr style=\"text-align: right;\">\n",
       "      <th>ratemarr</th>\n",
       "      <th>vry unhap</th>\n",
       "      <th>smewht unhap</th>\n",
       "      <th>avg</th>\n",
       "      <th>hap than avg</th>\n",
       "      <th>vry hap marr</th>\n",
       "    </tr>\n",
       "    <tr>\n",
       "      <th>kids</th>\n",
       "      <th></th>\n",
       "      <th></th>\n",
       "      <th></th>\n",
       "      <th></th>\n",
       "      <th></th>\n",
       "    </tr>\n",
       "  </thead>\n",
       "  <tbody>\n",
       "    <tr>\n",
       "      <th>no</th>\n",
       "      <td>0.02</td>\n",
       "      <td>0.05</td>\n",
       "      <td>0.14</td>\n",
       "      <td>0.23</td>\n",
       "      <td>0.56</td>\n",
       "    </tr>\n",
       "    <tr>\n",
       "      <th>yes</th>\n",
       "      <td>0.03</td>\n",
       "      <td>0.13</td>\n",
       "      <td>0.16</td>\n",
       "      <td>0.36</td>\n",
       "      <td>0.32</td>\n",
       "    </tr>\n",
       "    <tr>\n",
       "      <th>All</th>\n",
       "      <td>0.03</td>\n",
       "      <td>0.11</td>\n",
       "      <td>0.15</td>\n",
       "      <td>0.32</td>\n",
       "      <td>0.39</td>\n",
       "    </tr>\n",
       "  </tbody>\n",
       "</table>\n",
       "</div>"
      ],
      "text/plain": [
       "ratemarr  vry unhap  smewht unhap  avg  hap than avg  vry hap marr\n",
       "kids                                                              \n",
       "no             0.02          0.05 0.14          0.23          0.56\n",
       "yes            0.03          0.13 0.16          0.36          0.32\n",
       "All            0.03          0.11 0.15          0.32          0.39"
      ]
     },
     "execution_count": 64,
     "metadata": {},
     "output_type": "execute_result"
    }
   ],
   "source": [
    "# crosstabulation with row percentage\n",
    "\n",
    "print(\"Table 3.4. Crosstabulation with row percentage\")\n",
    "pd.crosstab(index = affairs[\"kids\"], columns = affairs[\"ratemarr\"], margins = True, normalize = \"index\")\n"
   ]
  },
  {
   "cell_type": "code",
   "execution_count": 66,
   "metadata": {},
   "outputs": [
    {
     "name": "stdout",
     "output_type": "stream",
     "text": [
      "Table 3.5. Crosstabulation with column percantage\n"
     ]
    },
    {
     "data": {
      "text/html": [
       "<div>\n",
       "<style scoped>\n",
       "    .dataframe tbody tr th:only-of-type {\n",
       "        vertical-align: middle;\n",
       "    }\n",
       "\n",
       "    .dataframe tbody tr th {\n",
       "        vertical-align: top;\n",
       "    }\n",
       "\n",
       "    .dataframe thead th {\n",
       "        text-align: right;\n",
       "    }\n",
       "</style>\n",
       "<table border=\"1\" class=\"dataframe\">\n",
       "  <thead>\n",
       "    <tr style=\"text-align: right;\">\n",
       "      <th>ratemarr</th>\n",
       "      <th>vry unhap</th>\n",
       "      <th>smewht unhap</th>\n",
       "      <th>avg</th>\n",
       "      <th>hap than avg</th>\n",
       "      <th>vry hap marr</th>\n",
       "      <th>All</th>\n",
       "    </tr>\n",
       "    <tr>\n",
       "      <th>kids</th>\n",
       "      <th></th>\n",
       "      <th></th>\n",
       "      <th></th>\n",
       "      <th></th>\n",
       "      <th></th>\n",
       "      <th></th>\n",
       "    </tr>\n",
       "  </thead>\n",
       "  <tbody>\n",
       "    <tr>\n",
       "      <th>no</th>\n",
       "      <td>0.19</td>\n",
       "      <td>0.12</td>\n",
       "      <td>0.26</td>\n",
       "      <td>0.21</td>\n",
       "      <td>0.41</td>\n",
       "      <td>0.28</td>\n",
       "    </tr>\n",
       "    <tr>\n",
       "      <th>yes</th>\n",
       "      <td>0.81</td>\n",
       "      <td>0.88</td>\n",
       "      <td>0.74</td>\n",
       "      <td>0.79</td>\n",
       "      <td>0.59</td>\n",
       "      <td>0.72</td>\n",
       "    </tr>\n",
       "  </tbody>\n",
       "</table>\n",
       "</div>"
      ],
      "text/plain": [
       "ratemarr  vry unhap  smewht unhap  avg  hap than avg  vry hap marr  All\n",
       "kids                                                                   \n",
       "no             0.19          0.12 0.26          0.21          0.41 0.28\n",
       "yes            0.81          0.88 0.74          0.79          0.59 0.72"
      ]
     },
     "execution_count": 66,
     "metadata": {},
     "output_type": "execute_result"
    }
   ],
   "source": [
    "# Too messy? Let's change the display settings\n",
    "pd.options.display.float_format = '{:.2f}'.format\n",
    "\n",
    "# crosstabulation with column percentage\n",
    "print(\"Table 3.5. Crosstabulation with column percantage\")\n",
    "pd.crosstab(index = affairs[\"kids\"], columns = affairs[\"ratemarr\"], margins = True, normalize = \"columns\")"
   ]
  },
  {
   "cell_type": "code",
   "execution_count": 67,
   "metadata": {},
   "outputs": [
    {
     "name": "stdout",
     "output_type": "stream",
     "text": [
      "Table 3.6. Probability distribution\n"
     ]
    },
    {
     "data": {
      "text/html": [
       "<div>\n",
       "<style scoped>\n",
       "    .dataframe tbody tr th:only-of-type {\n",
       "        vertical-align: middle;\n",
       "    }\n",
       "\n",
       "    .dataframe tbody tr th {\n",
       "        vertical-align: top;\n",
       "    }\n",
       "\n",
       "    .dataframe thead th {\n",
       "        text-align: right;\n",
       "    }\n",
       "</style>\n",
       "<table border=\"1\" class=\"dataframe\">\n",
       "  <thead>\n",
       "    <tr style=\"text-align: right;\">\n",
       "      <th>ratemarr</th>\n",
       "      <th>vry unhap</th>\n",
       "      <th>smewht unhap</th>\n",
       "      <th>avg</th>\n",
       "      <th>hap than avg</th>\n",
       "      <th>vry hap marr</th>\n",
       "      <th>All</th>\n",
       "    </tr>\n",
       "    <tr>\n",
       "      <th>kids</th>\n",
       "      <th></th>\n",
       "      <th></th>\n",
       "      <th></th>\n",
       "      <th></th>\n",
       "      <th></th>\n",
       "      <th></th>\n",
       "    </tr>\n",
       "  </thead>\n",
       "  <tbody>\n",
       "    <tr>\n",
       "      <th>no</th>\n",
       "      <td>0.00</td>\n",
       "      <td>0.01</td>\n",
       "      <td>0.04</td>\n",
       "      <td>0.07</td>\n",
       "      <td>0.16</td>\n",
       "      <td>0.28</td>\n",
       "    </tr>\n",
       "    <tr>\n",
       "      <th>yes</th>\n",
       "      <td>0.02</td>\n",
       "      <td>0.10</td>\n",
       "      <td>0.11</td>\n",
       "      <td>0.26</td>\n",
       "      <td>0.23</td>\n",
       "      <td>0.72</td>\n",
       "    </tr>\n",
       "    <tr>\n",
       "      <th>All</th>\n",
       "      <td>0.03</td>\n",
       "      <td>0.11</td>\n",
       "      <td>0.15</td>\n",
       "      <td>0.32</td>\n",
       "      <td>0.39</td>\n",
       "      <td>1.00</td>\n",
       "    </tr>\n",
       "  </tbody>\n",
       "</table>\n",
       "</div>"
      ],
      "text/plain": [
       "ratemarr  vry unhap  smewht unhap  avg  hap than avg  vry hap marr  All\n",
       "kids                                                                   \n",
       "no             0.00          0.01 0.04          0.07          0.16 0.28\n",
       "yes            0.02          0.10 0.11          0.26          0.23 0.72\n",
       "All            0.03          0.11 0.15          0.32          0.39 1.00"
      ]
     },
     "execution_count": 67,
     "metadata": {},
     "output_type": "execute_result"
    }
   ],
   "source": [
    "# crosstabulation with total percentage - probability distribution\n",
    "\n",
    "print(\"Table 3.6. Probability distribution\")\n",
    "\n",
    "pd.crosstab(index = affairs[\"kids\"], columns = affairs[\"ratemarr\"], margins = True, normalize = \"all\")"
   ]
  },
  {
   "cell_type": "markdown",
   "metadata": {},
   "source": [
    "### 3.3.2 Side-by-Side and Stacked Bar Charts\n",
    "\n",
    "In section 3.1.3, we said that a bar chart is a graphical display for depicting categorical data summarized in a frequency, relative frequency, or percent frequency distribution. Side-by-side bar charts and stacked bar charts are extensions of basic bar charts that are used to display the joint distribution of two variables.\n",
    "\n",
    "> A **side-by-side bar chart** is a graphical display for depicting multiple bar charts on the same display. \n",
    "\n",
    "> A **stacked bar chart** is a bar chart in which each bar is broken into rectangular segments of a different color showing the relative frequency of each class in a manner similar to a pie chart.\n",
    "\n",
    "To draw a side-by-side or a stacked bar chart, we can use the *matplotlib.pyplot* module."
   ]
  },
  {
   "cell_type": "code",
   "execution_count": 70,
   "metadata": {},
   "outputs": [
    {
     "data": {
      "image/png": "[encoded data removed]",
      "text/plain": [
       "<Figure size 432x288 with 1 Axes>"
      ]
     },
     "metadata": {
      "needs_background": "light"
     },
     "output_type": "display_data"
    }
   ],
   "source": [
    "# side-by-side bar chart\n",
    "\n",
    "# add left bars first and move bars to the left\n",
    "x_pos_left_bar = [i-0.4 for i in range(0,10,2)]\n",
    "plt.bar(x = x_pos_left_bar, height = crosstab.loc[\"yes\",\"vry unhap\":\"vry hap marr\"], width = 0.8, label = \"yes\")\n",
    "\n",
    "# add right bars first and move bars to the right\n",
    "x_pos_right_bar = [i+0.4 for i in range(0,10,2)]\n",
    "plt.bar(x = x_pos_right_bar, height = crosstab.loc[\"no\",\"vry unhap\":\"vry hap marr\"], width = 0.8,label = \"no\")\n",
    "plt.ylabel(\"frequency\")\n",
    "\n",
    "# add xticks and xlabels\n",
    "plt.xticks(ticks = range(0,10,2), labels = affairs[\"ratemarr\"].cat.categories)\n",
    "plt.legend()\n",
    "plt.title(\"Fig 3.6. Side-by-side bar chart for rate of happiness and whether have kids\\n\")\n",
    "\n",
    "plt.show()"
   ]
  },
  {
   "cell_type": "code",
   "execution_count": 71,
   "metadata": {},
   "outputs": [
    {
     "data": {
      "image/png": "[encoded data removed]",
      "text/plain": [
       "<Figure size 432x288 with 1 Axes>"
      ]
     },
     "metadata": {
      "needs_background": "light"
     },
     "output_type": "display_data"
    }
   ],
   "source": [
    "# stacked bar plot\n",
    "\n",
    "plt.bar(x = affairs[\"ratemarr\"].cat.categories, height = crosstab.loc[\"yes\",\"vry unhap\":\"vry hap marr\"], label = \"yes\")\n",
    "# kids=no are added on top of kids=yes\n",
    "plt.bar(x = affairs[\"ratemarr\"].cat.categories, height = crosstab.loc[\"no\",\"vry unhap\":\"vry hap marr\"], bottom = crosstab.loc[\"yes\",\"vry unhap\":\"vry hap marr\"], label = \"no\")\n",
    "\n",
    "plt.ylabel(\"frequency\")\n",
    "plt.legend()\n",
    "plt.title(\"Fig 3.7. Stacked bar chart for rate of happiness and whether have kids\\n\")\n",
    "\n",
    "plt.show()"
   ]
  },
  {
   "cell_type": "markdown",
   "metadata": {},
   "source": [
    "**Advanced Dataframe Slicing**:\n",
    "\n",
    "**df.loc[]** is primarily label based slicing of a pandas dataframe. Allowed inputs are:\n",
    "\n",
    "- A single label, e.g. 5 or 'a' (Note that 5 is interpreted as a label of the index. This use is not an integer position along the index.).\n",
    "- A list or array of labels ['a', 'b', 'c'].\n",
    "- A slice object with labels 'a':'f' (Note that contrary to usual Python slices, both the start and the stop are included, when present in the index! See Slicing with labels and Endpoints are inclusive.)\n",
    "- A boolean array (any NA values will be treated as False).\n",
    "\n",
    "In contrast, **df.iloc[]** is primarily integer position based (from 0 to length-1 of the axis), but may also be used with a boolean array. Allowed inputs are:\n",
    "\n",
    "- An integer e.g. 5.\n",
    "- A list or array of integers [4, 3, 0].\n",
    "- A slice object with ints 1:7.\n",
    "- A boolean array (any NA values will be treated as False).\n",
    "\n",
    "\n",
    "### 3.3.3 Seaborn - An even better visualization module\n",
    "\n",
    "[*Seaborn*](https://seaborn.pydata.org/api.html) is a python module built on matplotlib. It provides simplified and prettified visualization APIs. We can use the sns.countplot() method to draw a side-by-side bar plot with only one line of code."
   ]
  },
  {
   "cell_type": "code",
   "execution_count": 75,
   "metadata": {},
   "outputs": [
    {
     "data": {
      "image/png": "[encoded data removed]",
      "text/plain": [
       "<Figure size 432x288 with 1 Axes>"
      ]
     },
     "metadata": {
      "needs_background": "light"
     },
     "output_type": "display_data"
    },
    {
     "data": {
      "image/png": "[encoded data removed]",
      "text/plain": [
       "<Figure size 432x288 with 1 Axes>"
      ]
     },
     "metadata": {
      "needs_background": "light"
     },
     "output_type": "display_data"
    }
   ],
   "source": [
    "import seaborn as sns\n",
    "\n",
    "sns.countplot(x=\"ratemarr\", hue=\"kids\", data = affairs)\n",
    "plt.title(\"Fig. 3.8. Seaborn countplot\\n\" )\n",
    "plt.show()\n",
    "\n",
    "# OR use histplot\n",
    "sns.histplot(data = affairs, x=\"ratemarr\", hue=\"kids\", multiple = \"dodge\", discrete = False)\n",
    "plt.title(\"Fig. 3.9. Seaborn histplot with gaps\\n\" )\n",
    "plt.show()"
   ]
  },
  {
   "cell_type": "code",
   "execution_count": 76,
   "metadata": {},
   "outputs": [
    {
     "data": {
      "image/png": "[encoded data removed]",
      "text/plain": [
       "<Figure size 432x288 with 1 Axes>"
      ]
     },
     "metadata": {
      "needs_background": "light"
     },
     "output_type": "display_data"
    }
   ],
   "source": [
    "# Stacked bar plot\n",
    "sns.histplot(data = affairs, x = \"ratemarr\", hue=\"kids\", multiple = \"stack\", discrete=False)\n",
    "plt.title(\"Fig. 3.10. Seaborn histplot with stack display\\n\" )\n",
    "plt.show()"
   ]
  },
  {
   "cell_type": "markdown",
   "metadata": {},
   "source": [
    "## 3.4 Two Continuous Variables\n",
    "\n",
    "Next, we are back to the continuous case again. It is always possible to convert a continuous variable to categorical first and apply methods introduced in the previous section. So here, I am going to skip this convert-and-conquer method and add two more useful tools to your analytical toolbox.\n",
    "\n",
    "### 3.4.1 Joint plot\n",
    "\n",
    "The first graphical display generate from the histogram. In a traditional histogram, we use the height of the bar to represent the frequency, relative frequency, or density of a range of value. However, when it comes to two variables, the \"height\" of a two-dimensional value combination would probe into the 3rd dimension. Of course, we can draw a three-dimensional histogram in this situation, but a better practice is to use the darkness of color to represent such heights.\n",
    "\n",
    "For example, we would like to analyze the joint distribution of *wage* and *years of education* in the *wage1* dataset. Both variables are continuous, so we use the *.histplot()* method from the seaborn (alias sns) module."
   ]
  },
  {
   "cell_type": "code",
   "execution_count": 25,
   "metadata": {},
   "outputs": [
    {
     "data": {
      "text/html": [
       "<div>\n",
       "<style scoped>\n",
       "    .dataframe tbody tr th:only-of-type {\n",
       "        vertical-align: middle;\n",
       "    }\n",
       "\n",
       "    .dataframe tbody tr th {\n",
       "        vertical-align: top;\n",
       "    }\n",
       "\n",
       "    .dataframe thead th {\n",
       "        text-align: right;\n",
       "    }\n",
       "</style>\n",
       "<table border=\"1\" class=\"dataframe\">\n",
       "  <thead>\n",
       "    <tr style=\"text-align: right;\">\n",
       "      <th></th>\n",
       "      <th>wage</th>\n",
       "      <th>educ</th>\n",
       "      <th>exper</th>\n",
       "      <th>tenure</th>\n",
       "      <th>nonwhite</th>\n",
       "      <th>female</th>\n",
       "      <th>married</th>\n",
       "      <th>numdep</th>\n",
       "      <th>smsa</th>\n",
       "      <th>northcen</th>\n",
       "      <th>...</th>\n",
       "      <th>trcommpu</th>\n",
       "      <th>trade</th>\n",
       "      <th>services</th>\n",
       "      <th>profserv</th>\n",
       "      <th>profocc</th>\n",
       "      <th>clerocc</th>\n",
       "      <th>servocc</th>\n",
       "      <th>lwage</th>\n",
       "      <th>expersq</th>\n",
       "      <th>tenursq</th>\n",
       "    </tr>\n",
       "  </thead>\n",
       "  <tbody>\n",
       "    <tr>\n",
       "      <th>0</th>\n",
       "      <td>3.10</td>\n",
       "      <td>11</td>\n",
       "      <td>2</td>\n",
       "      <td>0</td>\n",
       "      <td>0</td>\n",
       "      <td>1</td>\n",
       "      <td>0</td>\n",
       "      <td>2</td>\n",
       "      <td>1</td>\n",
       "      <td>0</td>\n",
       "      <td>...</td>\n",
       "      <td>0</td>\n",
       "      <td>0</td>\n",
       "      <td>0</td>\n",
       "      <td>0</td>\n",
       "      <td>0</td>\n",
       "      <td>0</td>\n",
       "      <td>0</td>\n",
       "      <td>1.13</td>\n",
       "      <td>4</td>\n",
       "      <td>0</td>\n",
       "    </tr>\n",
       "    <tr>\n",
       "      <th>1</th>\n",
       "      <td>3.24</td>\n",
       "      <td>12</td>\n",
       "      <td>22</td>\n",
       "      <td>2</td>\n",
       "      <td>0</td>\n",
       "      <td>1</td>\n",
       "      <td>1</td>\n",
       "      <td>3</td>\n",
       "      <td>1</td>\n",
       "      <td>0</td>\n",
       "      <td>...</td>\n",
       "      <td>0</td>\n",
       "      <td>0</td>\n",
       "      <td>1</td>\n",
       "      <td>0</td>\n",
       "      <td>0</td>\n",
       "      <td>0</td>\n",
       "      <td>1</td>\n",
       "      <td>1.18</td>\n",
       "      <td>484</td>\n",
       "      <td>4</td>\n",
       "    </tr>\n",
       "    <tr>\n",
       "      <th>2</th>\n",
       "      <td>3.00</td>\n",
       "      <td>11</td>\n",
       "      <td>2</td>\n",
       "      <td>0</td>\n",
       "      <td>0</td>\n",
       "      <td>0</td>\n",
       "      <td>0</td>\n",
       "      <td>2</td>\n",
       "      <td>0</td>\n",
       "      <td>0</td>\n",
       "      <td>...</td>\n",
       "      <td>0</td>\n",
       "      <td>1</td>\n",
       "      <td>0</td>\n",
       "      <td>0</td>\n",
       "      <td>0</td>\n",
       "      <td>0</td>\n",
       "      <td>0</td>\n",
       "      <td>1.10</td>\n",
       "      <td>4</td>\n",
       "      <td>0</td>\n",
       "    </tr>\n",
       "    <tr>\n",
       "      <th>3</th>\n",
       "      <td>6.00</td>\n",
       "      <td>8</td>\n",
       "      <td>44</td>\n",
       "      <td>28</td>\n",
       "      <td>0</td>\n",
       "      <td>0</td>\n",
       "      <td>1</td>\n",
       "      <td>0</td>\n",
       "      <td>1</td>\n",
       "      <td>0</td>\n",
       "      <td>...</td>\n",
       "      <td>0</td>\n",
       "      <td>0</td>\n",
       "      <td>0</td>\n",
       "      <td>0</td>\n",
       "      <td>0</td>\n",
       "      <td>1</td>\n",
       "      <td>0</td>\n",
       "      <td>1.79</td>\n",
       "      <td>1936</td>\n",
       "      <td>784</td>\n",
       "    </tr>\n",
       "    <tr>\n",
       "      <th>4</th>\n",
       "      <td>5.30</td>\n",
       "      <td>12</td>\n",
       "      <td>7</td>\n",
       "      <td>2</td>\n",
       "      <td>0</td>\n",
       "      <td>0</td>\n",
       "      <td>1</td>\n",
       "      <td>1</td>\n",
       "      <td>0</td>\n",
       "      <td>0</td>\n",
       "      <td>...</td>\n",
       "      <td>0</td>\n",
       "      <td>0</td>\n",
       "      <td>0</td>\n",
       "      <td>0</td>\n",
       "      <td>0</td>\n",
       "      <td>0</td>\n",
       "      <td>0</td>\n",
       "      <td>1.67</td>\n",
       "      <td>49</td>\n",
       "      <td>4</td>\n",
       "    </tr>\n",
       "  </tbody>\n",
       "</table>\n",
       "<p>5 rows × 24 columns</p>\n",
       "</div>"
      ],
      "text/plain": [
       "   wage  educ  exper  tenure  nonwhite  female  married  numdep  smsa  \\\n",
       "0  3.10    11      2       0         0       1        0       2     1   \n",
       "1  3.24    12     22       2         0       1        1       3     1   \n",
       "2  3.00    11      2       0         0       0        0       2     0   \n",
       "3  6.00     8     44      28         0       0        1       0     1   \n",
       "4  5.30    12      7       2         0       0        1       1     0   \n",
       "\n",
       "   northcen  ...  trcommpu  trade  services  profserv  profocc  clerocc  \\\n",
       "0         0  ...         0      0         0         0        0        0   \n",
       "1         0  ...         0      0         1         0        0        0   \n",
       "2         0  ...         0      1         0         0        0        0   \n",
       "3         0  ...         0      0         0         0        0        1   \n",
       "4         0  ...         0      0         0         0        0        0   \n",
       "\n",
       "   servocc  lwage  expersq  tenursq  \n",
       "0        0   1.13        4        0  \n",
       "1        1   1.18      484        4  \n",
       "2        0   1.10        4        0  \n",
       "3        0   1.79     1936      784  \n",
       "4        0   1.67       49        4  \n",
       "\n",
       "[5 rows x 24 columns]"
      ]
     },
     "execution_count": 25,
     "metadata": {},
     "output_type": "execute_result"
    }
   ],
   "source": [
    "wage1 = woo.data(\"wage1\")\n",
    "wage1.head()"
   ]
  },
  {
   "cell_type": "code",
   "execution_count": 95,
   "metadata": {},
   "outputs": [
    {
     "data": {
      "image/png": "[encoded data removed]",
      "text/plain": [
       "<Figure size 432x288 with 1 Axes>"
      ]
     },
     "metadata": {
      "needs_background": "light"
     },
     "output_type": "display_data"
    },
    {
     "name": "stdout",
     "output_type": "stream",
     "text": [
      "\n",
      "                    Fig. 3.12. Joint plot \n",
      "\n"
     ]
    },
    {
     "data": {
      "image/png": "[encoded data removed]",
      "text/plain": [
       "<Figure size 432x432 with 3 Axes>"
      ]
     },
     "metadata": {
      "needs_background": "light"
     },
     "output_type": "display_data"
    }
   ],
   "source": [
    "sns.histplot(x=\"wage\",y=\"educ\",data=wage1)\n",
    "plt.title(\"Fig. 3.11. 2-dimensional histogram\\n\" )\n",
    "plt.show()\n",
    "sns.jointplot(x=\"wage\",y=\"educ\",data=wage1)\n",
    "print(\"\\n\" + \" \"*20+\"Fig. 3.12. Joint plot \\n\" )\n",
    "plt.show()"
   ]
  },
  {
   "cell_type": "markdown",
   "metadata": {},
   "source": [
    "We distinguish a two-dimensional histogram from the one-dimensional vanilla case by adding a *y* parameter. The **jointplot()** method provides two separate histograms on the top and the right margins and a scatter plot in its main frame."
   ]
  },
  {
   "cell_type": "markdown",
   "metadata": {},
   "source": [
    "### 3.4.2 Scatter plot\n",
    "\n",
    "A **scatter plot** is a graphical display of the relationship between two quantitative (continuous) variables, and a **trendline** is a line that provides an approximation of the relationship. Each point in the scatter plot represent an observation (row) in the dataset.\n",
    "\n",
    "Let's depict a scatter plot for *wage* and *years of education*."
   ]
  },
  {
   "cell_type": "code",
   "execution_count": 100,
   "metadata": {},
   "outputs": [
    {
     "data": {
      "image/png": "[encoded data removed]",
      "text/plain": [
       "<Figure size 432x288 with 1 Axes>"
      ]
     },
     "metadata": {
      "needs_background": "light"
     },
     "output_type": "display_data"
    },
    {
     "data": {
      "image/png": "[encoded data removed]",
      "text/plain": [
       "<Figure size 432x288 with 1 Axes>"
      ]
     },
     "metadata": {
      "needs_background": "light"
     },
     "output_type": "display_data"
    }
   ],
   "source": [
    "# Scatterplot\n",
    "sns.scatterplot(x= \"wage\", y=\"educ\",data=wage1)\n",
    "\n",
    "plt.title(\"Fig. 3.13. Scatter Plot for wage and education\\n\")\n",
    "plt.show()\n",
    "\n",
    "# Scatterplot with trendline\n",
    "sns.regplot(x= \"wage\", y=\"educ\",data=wage1, ci=None)\n",
    "plt.title(\"Fig. 3.14. Scatter Plot with trendline\\n\")\n",
    "plt.show()"
   ]
  },
  {
   "cell_type": "markdown",
   "metadata": {},
   "source": [
    "The scatter diagram in Figure 3.13 and Figure 3.14 indicates a positive relationship between years of education and the happiness of marriage. \n",
    "\n",
    "See also [plt.scatter()](https://matplotlib.org/stable/api/_as_gen/matplotlib.pyplot.scatter.html) and [plt.hist2d()](https://matplotlib.org/stable/api/_as_gen/matplotlib.pyplot.hist2d.html) for similar figures."
   ]
  },
  {
   "cell_type": "markdown",
   "metadata": {},
   "source": [
    "> To combine the two plots above in one figure, use [plt.subplots()](https://matplotlib.org/stable/api/_as_gen/matplotlib.pyplot.subplots.html)"
   ]
  },
  {
   "cell_type": "code",
   "execution_count": 113,
   "metadata": {},
   "outputs": [
    {
     "data": {
      "image/png": "[encoded data removed]",
      "text/plain": [
       "<Figure size 432x288 with 2 Axes>"
      ]
     },
     "metadata": {
      "needs_background": "light"
     },
     "output_type": "display_data"
    }
   ],
   "source": [
    "# subplots method returns two objects\n",
    "fig, axs = plt.subplots(nrows=1,ncols=2)\n",
    "\n",
    "# plot the first subfigure on ax1\n",
    "sns.histplot(x= \"wage\", y=\"educ\",data=wage1, ax=axs[0])\n",
    "axs[0].set_title(\"(A) Histogram\")\n",
    "\n",
    "# plot the second subfigure on ax2\n",
    "sns.scatterplot(x= \"wage\", y=\"educ\",data=wage1, ax=axs[1])\n",
    "axs[1].set_title(\"(B) Scatter plot\")\n",
    "\n",
    "# Add a title\n",
    "plt.suptitle(\"Fig. 3.15. Display multiple plots in one figure\\n\")\n",
    "plt.show()"
   ]
  },
  {
   "cell_type": "markdown",
   "metadata": {},
   "source": [
    "## 3.5 Data Visualization - Best Practices"
   ]
  },
  {
   "cell_type": "markdown",
   "metadata": {},
   "source": [
    "- Give the display a clear and concise title.\n",
    "- Keep the display simple. Do not use three dimensions when two dimensions are sufficient\n",
    "- Clearly label each axis and provide the units of measure.\n",
    "- If color is used to distinguish categories, make sure the colors are distinct.\n",
    "- If multiple colors or line types are used, use a legend to define how they are used and place the legend close to the representation of the data"
   ]
  }
 ],
 "metadata": {
  "kernelspec": {
   "display_name": "Python 3",
   "language": "python",
   "name": "python3"
  },
  "language_info": {
   "codemirror_mode": {
    "name": "ipython",
    "version": 3
   },
   "file_extension": ".py",
   "mimetype": "text/x-python",
   "name": "python",
   "nbconvert_exporter": "python",
   "pygments_lexer": "ipython3",
   "version": "3.8.5"
  },
  "toc-autonumbering": false,
  "toc-showcode": false,
  "toc-showmarkdowntxt": false,
  "toc-showtags": false
 },
 "nbformat": 4,
 "nbformat_minor": 5
}
